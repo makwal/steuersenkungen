{
 "cells": [
  {
   "cell_type": "markdown",
   "metadata": {},
   "source": [
    "In diesem Notebook werden die folgenden Teil-Auswertungen gemacht:\n",
    "5. Entwicklung, wie viel der Kanton AG durch Gewinn- und Kapitalsteuern sowie Einkommens- und Vermögenssteuern einnimmt\n",
    "6. Anteil der Firmen- und Personensteuern am Fiskalertrag des Kantons Aargau\n",
    "7. Entwicklung Steuerertrag pro Kopf resp. Firma"
   ]
  },
  {
   "cell_type": "markdown",
   "metadata": {},
   "source": [
    "# Code AG - Vorbereitung"
   ]
  },
  {
   "cell_type": "markdown",
   "metadata": {},
   "source": [
    "Zunächst müssen vier verschiedene Dateien harmonisiert und miteinander gemergt werden. Es handelt sich um die juristischen Steuern (df_jur), die natürlichen Steuern (df_nat1 für Steuererträge, df_nat2 für Anzahl Pflichtige und steuerb. Einkommen) und die Erträge des Kantons aus der Erfolgsrechnung (df_er1 bis 2013, df_er2 ab 2014)."
   ]
  },
  {
   "cell_type": "code",
   "execution_count": 1,
   "metadata": {},
   "outputs": [],
   "source": [
    "import pandas as pd\n",
    "%matplotlib inline"
   ]
  },
  {
   "cell_type": "code",
   "execution_count": 2,
   "metadata": {},
   "outputs": [],
   "source": [
    "#Import der Daten\n",
    "df_jur = pd.read_excel('Daten/kanton_ag_steuern_juristische_personen.xlsx', sheet_name='T 1', skiprows=3)\n",
    "df_nat1 = pd.read_excel('Daten/kanton_ag_steuern_natürliche_personen.xlsx', sheet_name='T 26a', skiprows=3, usecols=['Jahr', 'Total \\nSteuer'])\n",
    "df_nat2 = pd.read_excel('Daten/kanton_ag_steuern_natürliche_personen.xlsx', sheet_name='T 1', skiprows=3, usecols=['Jahr', 'Anzahl \\nPflichtige1', 'Unnamed: 5'])\n",
    "df_er1 = pd.read_csv('Daten/kanton_ag_gemeinden_erfolgsrechnung_bis2013.csv', encoding='latin', delimiter=';')\n",
    "df_er2 = pd.read_csv('Daten/kanton_ag_gemeinden_erfolgsrechnung_ab2014.csv', encoding='latin', delimiter=';')"
   ]
  },
  {
   "cell_type": "markdown",
   "metadata": {},
   "source": [
    "**Juristische Personen**"
   ]
  },
  {
   "cell_type": "code",
   "execution_count": 3,
   "metadata": {},
   "outputs": [
    {
     "data": {
      "text/html": [
       "<div>\n",
       "<style scoped>\n",
       "    .dataframe tbody tr th:only-of-type {\n",
       "        vertical-align: middle;\n",
       "    }\n",
       "\n",
       "    .dataframe tbody tr th {\n",
       "        vertical-align: top;\n",
       "    }\n",
       "\n",
       "    .dataframe thead th {\n",
       "        text-align: right;\n",
       "    }\n",
       "</style>\n",
       "<table border=\"1\" class=\"dataframe\">\n",
       "  <thead>\n",
       "    <tr style=\"text-align: right;\">\n",
       "      <th></th>\n",
       "      <th>Unnamed: 0</th>\n",
       "      <th>Jahr</th>\n",
       "      <th>Pflichtige</th>\n",
       "      <th>Reingewinn\\nin 1'000 Fr.</th>\n",
       "      <th>Eigenkapital\\nin 1'000 Fr.</th>\n",
       "      <th>Gewinn-steuer \\nin 1'000 Fr.</th>\n",
       "      <th>Kapital-steuer\\nin 1'000 Fr.</th>\n",
       "      <th>Kantons-steuer\\nin 1'000 Fr.</th>\n",
       "      <th>Unnamed: 8</th>\n",
       "      <th>Unnamed: 9</th>\n",
       "    </tr>\n",
       "  </thead>\n",
       "  <tbody>\n",
       "    <tr>\n",
       "      <th>58</th>\n",
       "      <td>NaN</td>\n",
       "      <td>2011</td>\n",
       "      <td>4868.0</td>\n",
       "      <td>2.410512e+04</td>\n",
       "      <td>7.890191e+05</td>\n",
       "      <td>1887.58705</td>\n",
       "      <td>839.994600</td>\n",
       "      <td>2727.581650</td>\n",
       "      <td>NaN</td>\n",
       "      <td>NaN</td>\n",
       "    </tr>\n",
       "    <tr>\n",
       "      <th>59</th>\n",
       "      <td>NaN</td>\n",
       "      <td>2012</td>\n",
       "      <td>4836.0</td>\n",
       "      <td>2.635207e+04</td>\n",
       "      <td>8.686995e+05</td>\n",
       "      <td>2068.08225</td>\n",
       "      <td>941.175400</td>\n",
       "      <td>3009.257650</td>\n",
       "      <td>NaN</td>\n",
       "      <td>NaN</td>\n",
       "    </tr>\n",
       "    <tr>\n",
       "      <th>60</th>\n",
       "      <td>NaN</td>\n",
       "      <td>2013</td>\n",
       "      <td>4793.0</td>\n",
       "      <td>3.065633e+04</td>\n",
       "      <td>1.038046e+06</td>\n",
       "      <td>2526.03450</td>\n",
       "      <td>1151.949200</td>\n",
       "      <td>3677.983700</td>\n",
       "      <td>NaN</td>\n",
       "      <td>NaN</td>\n",
       "    </tr>\n",
       "    <tr>\n",
       "      <th>61</th>\n",
       "      <td>NaN</td>\n",
       "      <td>2014</td>\n",
       "      <td>4780.0</td>\n",
       "      <td>3.171101e+04</td>\n",
       "      <td>1.158419e+06</td>\n",
       "      <td>1559.08215</td>\n",
       "      <td>1299.594050</td>\n",
       "      <td>2858.676200</td>\n",
       "      <td>NaN</td>\n",
       "      <td>NaN</td>\n",
       "    </tr>\n",
       "    <tr>\n",
       "      <th>62</th>\n",
       "      <td>NaN</td>\n",
       "      <td>2015</td>\n",
       "      <td>4767.0</td>\n",
       "      <td>3.779188e+04</td>\n",
       "      <td>1.302337e+06</td>\n",
       "      <td>1895.37275</td>\n",
       "      <td>1478.063750</td>\n",
       "      <td>3373.436500</td>\n",
       "      <td>NaN</td>\n",
       "      <td>NaN</td>\n",
       "    </tr>\n",
       "    <tr>\n",
       "      <th>63</th>\n",
       "      <td>NaN</td>\n",
       "      <td>2016</td>\n",
       "      <td>4776.0</td>\n",
       "      <td>4.740255e+04</td>\n",
       "      <td>1.504643e+06</td>\n",
       "      <td>2477.75860</td>\n",
       "      <td>1734.005150</td>\n",
       "      <td>4211.763750</td>\n",
       "      <td>NaN</td>\n",
       "      <td>NaN</td>\n",
       "    </tr>\n",
       "    <tr>\n",
       "      <th>64</th>\n",
       "      <td>NaN</td>\n",
       "      <td>2017</td>\n",
       "      <td>4779.0</td>\n",
       "      <td>5.073951e+04</td>\n",
       "      <td>1.565507e+06</td>\n",
       "      <td>2654.89550</td>\n",
       "      <td>1808.405000</td>\n",
       "      <td>4463.301000</td>\n",
       "      <td>NaN</td>\n",
       "      <td>NaN</td>\n",
       "    </tr>\n",
       "    <tr>\n",
       "      <th>65</th>\n",
       "      <td>NaN</td>\n",
       "      <td>Total juristische Personen</td>\n",
       "      <td>NaN</td>\n",
       "      <td>NaN</td>\n",
       "      <td>NaN</td>\n",
       "      <td>NaN</td>\n",
       "      <td>NaN</td>\n",
       "      <td>NaN</td>\n",
       "      <td>NaN</td>\n",
       "      <td>NaN</td>\n",
       "    </tr>\n",
       "    <tr>\n",
       "      <th>66</th>\n",
       "      <td>NaN</td>\n",
       "      <td>2001</td>\n",
       "      <td>19150.0</td>\n",
       "      <td>2.345604e+06</td>\n",
       "      <td>3.380392e+07</td>\n",
       "      <td>220918.11700</td>\n",
       "      <td>57418.934000</td>\n",
       "      <td>278337.051000</td>\n",
       "      <td>NaN</td>\n",
       "      <td>NaN</td>\n",
       "    </tr>\n",
       "    <tr>\n",
       "      <th>67</th>\n",
       "      <td>NaN</td>\n",
       "      <td>2003</td>\n",
       "      <td>20122.0</td>\n",
       "      <td>1.773238e+06</td>\n",
       "      <td>3.284391e+07</td>\n",
       "      <td>167152.71800</td>\n",
       "      <td>61036.274872</td>\n",
       "      <td>228188.992872</td>\n",
       "      <td>NaN</td>\n",
       "      <td>NaN</td>\n",
       "    </tr>\n",
       "    <tr>\n",
       "      <th>68</th>\n",
       "      <td>NaN</td>\n",
       "      <td>2005</td>\n",
       "      <td>20998.0</td>\n",
       "      <td>2.494713e+06</td>\n",
       "      <td>3.486504e+07</td>\n",
       "      <td>242300.12115</td>\n",
       "      <td>62539.000156</td>\n",
       "      <td>304839.121306</td>\n",
       "      <td>NaN</td>\n",
       "      <td>NaN</td>\n",
       "    </tr>\n",
       "    <tr>\n",
       "      <th>69</th>\n",
       "      <td>NaN</td>\n",
       "      <td>2007</td>\n",
       "      <td>22291.0</td>\n",
       "      <td>3.484860e+06</td>\n",
       "      <td>4.179949e+07</td>\n",
       "      <td>343587.84815</td>\n",
       "      <td>35889.686856</td>\n",
       "      <td>379477.535006</td>\n",
       "      <td>NaN</td>\n",
       "      <td>NaN</td>\n",
       "    </tr>\n",
       "    <tr>\n",
       "      <th>70</th>\n",
       "      <td>NaN</td>\n",
       "      <td>2009</td>\n",
       "      <td>23652.0</td>\n",
       "      <td>3.703153e+06</td>\n",
       "      <td>4.438155e+07</td>\n",
       "      <td>318251.71315</td>\n",
       "      <td>14180.052800</td>\n",
       "      <td>332431.765950</td>\n",
       "      <td>NaN</td>\n",
       "      <td>NaN</td>\n",
       "    </tr>\n",
       "    <tr>\n",
       "      <th>71</th>\n",
       "      <td>NaN</td>\n",
       "      <td>2011</td>\n",
       "      <td>25214.0</td>\n",
       "      <td>3.916334e+06</td>\n",
       "      <td>4.722879e+07</td>\n",
       "      <td>335039.38690</td>\n",
       "      <td>14515.244128</td>\n",
       "      <td>349554.631028</td>\n",
       "      <td>NaN</td>\n",
       "      <td>NaN</td>\n",
       "    </tr>\n",
       "    <tr>\n",
       "      <th>72</th>\n",
       "      <td>NaN</td>\n",
       "      <td>2012</td>\n",
       "      <td>25953.0</td>\n",
       "      <td>3.606761e+06</td>\n",
       "      <td>4.831548e+07</td>\n",
       "      <td>306281.42850</td>\n",
       "      <td>14603.478587</td>\n",
       "      <td>320884.907087</td>\n",
       "      <td>NaN</td>\n",
       "      <td>NaN</td>\n",
       "    </tr>\n",
       "    <tr>\n",
       "      <th>73</th>\n",
       "      <td>NaN</td>\n",
       "      <td>2013</td>\n",
       "      <td>26758.0</td>\n",
       "      <td>3.946603e+06</td>\n",
       "      <td>5.156543e+07</td>\n",
       "      <td>336270.16330</td>\n",
       "      <td>14447.999294</td>\n",
       "      <td>350718.162594</td>\n",
       "      <td>NaN</td>\n",
       "      <td>NaN</td>\n",
       "    </tr>\n",
       "    <tr>\n",
       "      <th>74</th>\n",
       "      <td>NaN</td>\n",
       "      <td>2014</td>\n",
       "      <td>27610.0</td>\n",
       "      <td>3.915770e+06</td>\n",
       "      <td>5.371583e+07</td>\n",
       "      <td>331600.35490</td>\n",
       "      <td>14741.157270</td>\n",
       "      <td>346341.512170</td>\n",
       "      <td>NaN</td>\n",
       "      <td>NaN</td>\n",
       "    </tr>\n",
       "    <tr>\n",
       "      <th>75</th>\n",
       "      <td>NaN</td>\n",
       "      <td>2015</td>\n",
       "      <td>28530.0</td>\n",
       "      <td>3.520403e+06</td>\n",
       "      <td>5.413146e+07</td>\n",
       "      <td>295358.44130</td>\n",
       "      <td>19149.466980</td>\n",
       "      <td>314507.908300</td>\n",
       "      <td>NaN</td>\n",
       "      <td>NaN</td>\n",
       "    </tr>\n",
       "    <tr>\n",
       "      <th>76</th>\n",
       "      <td>NaN</td>\n",
       "      <td>2016</td>\n",
       "      <td>29388.0</td>\n",
       "      <td>3.636364e+06</td>\n",
       "      <td>6.656982e+07</td>\n",
       "      <td>280877.60500</td>\n",
       "      <td>20661.672010</td>\n",
       "      <td>301539.277010</td>\n",
       "      <td>NaN</td>\n",
       "      <td>NaN</td>\n",
       "    </tr>\n",
       "    <tr>\n",
       "      <th>77</th>\n",
       "      <td>NaN</td>\n",
       "      <td>2017</td>\n",
       "      <td>30322.0</td>\n",
       "      <td>3.822916e+06</td>\n",
       "      <td>6.913603e+07</td>\n",
       "      <td>295780.42030</td>\n",
       "      <td>23218.106000</td>\n",
       "      <td>318998.526000</td>\n",
       "      <td>NaN</td>\n",
       "      <td>NaN</td>\n",
       "    </tr>\n",
       "  </tbody>\n",
       "</table>\n",
       "</div>"
      ],
      "text/plain": [
       "    Unnamed: 0                        Jahr  Pflichtige  \\\n",
       "58         NaN                        2011      4868.0   \n",
       "59         NaN                        2012      4836.0   \n",
       "60         NaN                        2013      4793.0   \n",
       "61         NaN                        2014      4780.0   \n",
       "62         NaN                        2015      4767.0   \n",
       "63         NaN                        2016      4776.0   \n",
       "64         NaN                        2017      4779.0   \n",
       "65         NaN  Total juristische Personen         NaN   \n",
       "66         NaN                        2001     19150.0   \n",
       "67         NaN                        2003     20122.0   \n",
       "68         NaN                        2005     20998.0   \n",
       "69         NaN                        2007     22291.0   \n",
       "70         NaN                        2009     23652.0   \n",
       "71         NaN                        2011     25214.0   \n",
       "72         NaN                        2012     25953.0   \n",
       "73         NaN                        2013     26758.0   \n",
       "74         NaN                        2014     27610.0   \n",
       "75         NaN                        2015     28530.0   \n",
       "76         NaN                        2016     29388.0   \n",
       "77         NaN                        2017     30322.0   \n",
       "\n",
       "    Reingewinn\\nin 1'000 Fr.  Eigenkapital\\nin 1'000 Fr.  \\\n",
       "58              2.410512e+04                7.890191e+05   \n",
       "59              2.635207e+04                8.686995e+05   \n",
       "60              3.065633e+04                1.038046e+06   \n",
       "61              3.171101e+04                1.158419e+06   \n",
       "62              3.779188e+04                1.302337e+06   \n",
       "63              4.740255e+04                1.504643e+06   \n",
       "64              5.073951e+04                1.565507e+06   \n",
       "65                       NaN                         NaN   \n",
       "66              2.345604e+06                3.380392e+07   \n",
       "67              1.773238e+06                3.284391e+07   \n",
       "68              2.494713e+06                3.486504e+07   \n",
       "69              3.484860e+06                4.179949e+07   \n",
       "70              3.703153e+06                4.438155e+07   \n",
       "71              3.916334e+06                4.722879e+07   \n",
       "72              3.606761e+06                4.831548e+07   \n",
       "73              3.946603e+06                5.156543e+07   \n",
       "74              3.915770e+06                5.371583e+07   \n",
       "75              3.520403e+06                5.413146e+07   \n",
       "76              3.636364e+06                6.656982e+07   \n",
       "77              3.822916e+06                6.913603e+07   \n",
       "\n",
       "    Gewinn-steuer \\nin 1'000 Fr.  Kapital-steuer\\nin 1'000 Fr.  \\\n",
       "58                    1887.58705                    839.994600   \n",
       "59                    2068.08225                    941.175400   \n",
       "60                    2526.03450                   1151.949200   \n",
       "61                    1559.08215                   1299.594050   \n",
       "62                    1895.37275                   1478.063750   \n",
       "63                    2477.75860                   1734.005150   \n",
       "64                    2654.89550                   1808.405000   \n",
       "65                           NaN                           NaN   \n",
       "66                  220918.11700                  57418.934000   \n",
       "67                  167152.71800                  61036.274872   \n",
       "68                  242300.12115                  62539.000156   \n",
       "69                  343587.84815                  35889.686856   \n",
       "70                  318251.71315                  14180.052800   \n",
       "71                  335039.38690                  14515.244128   \n",
       "72                  306281.42850                  14603.478587   \n",
       "73                  336270.16330                  14447.999294   \n",
       "74                  331600.35490                  14741.157270   \n",
       "75                  295358.44130                  19149.466980   \n",
       "76                  280877.60500                  20661.672010   \n",
       "77                  295780.42030                  23218.106000   \n",
       "\n",
       "    Kantons-steuer\\nin 1'000 Fr.  Unnamed: 8  Unnamed: 9  \n",
       "58                   2727.581650         NaN         NaN  \n",
       "59                   3009.257650         NaN         NaN  \n",
       "60                   3677.983700         NaN         NaN  \n",
       "61                   2858.676200         NaN         NaN  \n",
       "62                   3373.436500         NaN         NaN  \n",
       "63                   4211.763750         NaN         NaN  \n",
       "64                   4463.301000         NaN         NaN  \n",
       "65                           NaN         NaN         NaN  \n",
       "66                 278337.051000         NaN         NaN  \n",
       "67                 228188.992872         NaN         NaN  \n",
       "68                 304839.121306         NaN         NaN  \n",
       "69                 379477.535006         NaN         NaN  \n",
       "70                 332431.765950         NaN         NaN  \n",
       "71                 349554.631028         NaN         NaN  \n",
       "72                 320884.907087         NaN         NaN  \n",
       "73                 350718.162594         NaN         NaN  \n",
       "74                 346341.512170         NaN         NaN  \n",
       "75                 314507.908300         NaN         NaN  \n",
       "76                 301539.277010         NaN         NaN  \n",
       "77                 318998.526000         NaN         NaN  "
      ]
     },
     "execution_count": 3,
     "metadata": {},
     "output_type": "execute_result"
    }
   ],
   "source": [
    "#Das Total der juristischen Personen kommt erst am Ende des Dataframes ab Index 65\n",
    "df_jur.tail(20)"
   ]
  },
  {
   "cell_type": "code",
   "execution_count": 4,
   "metadata": {},
   "outputs": [],
   "source": [
    "#Entsprechende Zeilen auswählen, um mit dem Total der Juristischen weiterarbeiten zu können\n",
    "df_jur = df_jur.iloc[66:78].copy()\n",
    "\n",
    "#Leere Spalten löschen\n",
    "df_jur = df_jur.drop(['Unnamed: 0', 'Unnamed: 8', 'Unnamed: 9'], axis=1)\n",
    "\n",
    "#Jahr als Index und das Datum auf den 31. Dezember jeden Jahres ändern, für den späteren Merge\n",
    "df_jur['Jahr'] = pd.to_datetime(df_jur['Jahr'], format='%Y') + pd.offsets.YearEnd(0) \n",
    "df_jur.set_index('Jahr', inplace=True)\n",
    "df_jur.rename_axis(None, inplace=True)\n",
    "\n",
    "#Neubenennung der Spalten zwecks besserer Schreib- und Lesbarkeit.\n",
    "#Jur. Steuern Total entspricht der Summe von Gewinn- und Kapitalsteuerertrag\n",
    "df_jur.columns = [\n",
    "                'Jur. Pflichtige',\n",
    "             'Reingewinn',\n",
    "             'Eigenkapital',\n",
    "             'Gewinnsteuerertrag',\n",
    "             'Kapitalsteuerertrag',\n",
    "             'Jur. Steuern Total'\n",
    "]\n",
    "\n",
    "#Die meisten Spalten sind in 1000 Franken angegeben. Es braucht also eine Multiplikation mit 1000\n",
    "#Ausser bei der Anzahl Steuerpflichtiger. Sie wird von der Multiplikation ausgenommen und danach wieder hinzugefügt\n",
    "df_jur_temp = df_jur[['Reingewinn',\n",
    "             'Eigenkapital',\n",
    "             'Gewinnsteuerertrag',\n",
    "             'Kapitalsteuerertrag',\n",
    "             'Jur. Steuern Total']].copy() * 1000\n",
    "\n",
    "#Ausser bei den Steuerpflichtigen, da muss es rückgängig gemacht werden\n",
    "#df_jur['Pflichtige'] = df_jur['Pflichtige'] / 1000\n",
    "df_jur = df_jur[['Jur. Pflichtige']].merge(df_jur_temp, left_index=True, right_index=True)"
   ]
  },
  {
   "cell_type": "markdown",
   "metadata": {},
   "source": [
    "**Natürliche Personen - df_nat1**"
   ]
  },
  {
   "cell_type": "code",
   "execution_count": 5,
   "metadata": {
    "scrolled": true
   },
   "outputs": [],
   "source": [
    "#Jahr als Index und das Datum auf den 31. Dezember jeden Jahres ändern, für den späteren Merge\n",
    "df_nat1['Jahr'] = pd.to_datetime(df_nat1['Jahr'], format='%Y') + pd.offsets.YearEnd(0)\n",
    "df_nat1.set_index('Jahr', inplace=True)\n",
    "\n",
    "#alle Angaben sind in Millionen Franken, darum die Multiplikation\n",
    "df_nat1 = df_nat1 * 1000000\n",
    "\n",
    "#Spalte umbennen\n",
    "df_nat1.rename(columns={'Total \\nSteuer': 'Nat. Steuern Total'}, inplace=True)"
   ]
  },
  {
   "cell_type": "markdown",
   "metadata": {},
   "source": [
    "**Natürliche Personen - df_nat2**"
   ]
  },
  {
   "cell_type": "code",
   "execution_count": 6,
   "metadata": {
    "scrolled": true
   },
   "outputs": [],
   "source": [
    "#Kosmetik\n",
    "df_nat2.columns = ['Jahr', 'Nat. Steuerpflichtige', 'Steuerbares Einkommen_pro_kopf']\n",
    "df_nat2.drop([0], inplace=True)\n",
    "\n",
    "#Für die Auswertungen braucht es nur die ersten 17 Zeilen, Jahre 2001-2017\n",
    "df_nat2 = df_nat2.iloc[0:17].copy()\n",
    "\n",
    "#Steuerpflichtige als ganze Zahl formatieren\n",
    "df_nat2['Nat. Steuerpflichtige'] = df_nat2['Nat. Steuerpflichtige'].round(0)\n",
    "df_nat2['Nat. Steuerpflichtige'] = df_nat2['Nat. Steuerpflichtige'].astype(int)\n",
    "\n",
    "#Es handelt sich im df_nat2 um das arithmetische Mittel des steuerbaren Einkommens. Zur besseren\n",
    "#Vergleichbarkeit mit den jur. Personen wird es mit der Anzahl Steuerpflichtiger multipliziert.\n",
    "df_nat2['Steuerbares Einkommen Total'] = df_nat2['Nat. Steuerpflichtige'] * df_nat2['Steuerbares Einkommen_pro_kopf']\n",
    "\n",
    "#Jahr als Index und das Datum auf den 31. Dezember jeden Jahres ändern, für den späteren Merge\n",
    "df_nat2['Jahr'] = pd.to_datetime(df_nat2['Jahr'], format='%Y') + pd.offsets.YearEnd(0)\n",
    "df_nat2.set_index('Jahr', inplace=True)"
   ]
  },
  {
   "cell_type": "markdown",
   "metadata": {},
   "source": [
    "**Merge zu df_nat**"
   ]
  },
  {
   "cell_type": "code",
   "execution_count": 7,
   "metadata": {},
   "outputs": [],
   "source": [
    "#Merge von df_nat1 und df_nat2\n",
    "df_nat = df_nat1.merge(df_nat2, left_index=True, right_index=True)"
   ]
  },
  {
   "cell_type": "markdown",
   "metadata": {},
   "source": [
    "**Kantonserträge**"
   ]
  },
  {
   "cell_type": "markdown",
   "metadata": {},
   "source": [
    "Die Dateien werden zunächst in die gleiche Form gebracht. df_er1 muss dabei noch mit 1000 multipliziert werden, weil die Erträge in 1000 CHF angegeben sind. Gewisse Codezeilen in diesem Abschnitt wiederholen sich. Eine Funktion zu bauen, wäre für diese wenigen Zeilen allerdings ein zu grosser Aufwand."
   ]
  },
  {
   "cell_type": "code",
   "execution_count": 8,
   "metadata": {},
   "outputs": [],
   "source": [
    "#Nur Kanton AG auswählen und für df_er1 Daten ab 2010, frühere sind nicht verfügbar\n",
    "df_er1 = df_er1[df_er1['BFSNR'] == 19].iloc[0:4].copy()\n",
    "df_er2 = df_er2[df_er2['BFSNR'] == 19].copy()\n",
    "    \n",
    "#Datum formatieren und als Index setzen\n",
    "df_er1['DATUM'] = pd.to_datetime(df_er1['DATUM'])\n",
    "df_er1.set_index('DATUM', inplace=True)\n",
    "df_er1.rename_axis(None, inplace=True)\n",
    "\n",
    "df_er2['DATUM'] = pd.to_datetime(df_er2['DATUM'])\n",
    "df_er2.set_index('DATUM', inplace=True)\n",
    "df_er2.rename_axis(None, inplace=True)\n",
    "\n",
    "#Nur notwendige Spalte auswählen\n",
    "df_er1 = df_er1[['STEUERN']].copy()\n",
    "df_er2 = df_er2[['FISKALERTRAG']].copy()\n",
    "\n",
    "#Die Spalte soll auch in df_er1 FISKALERTRAG heissen\n",
    "df_er1.rename(columns={'STEUERN': 'FISKALERTRAG'}, inplace=True)\n",
    "\n",
    "#Als float formatieren und mit 1000 multiplizieren\n",
    "df_er1 = df_er1.astype(float) * 1000"
   ]
  },
  {
   "cell_type": "code",
   "execution_count": 9,
   "metadata": {},
   "outputs": [],
   "source": [
    "#Die beiden Dataframes untereinander zusammenfügen, den Index sortieren und die Spalte umbenennen\n",
    "df_ertrag = pd.concat([df_er1, df_er2])\n",
    "df_ertrag = df_ertrag.sort_index()\n",
    "df_ertrag.rename(columns={'FISKALERTRAG': 'Fiskalertrag'}, inplace=True)"
   ]
  },
  {
   "cell_type": "markdown",
   "metadata": {},
   "source": [
    "**Check aller Dataframes vor Merge**"
   ]
  },
  {
   "cell_type": "code",
   "execution_count": 10,
   "metadata": {},
   "outputs": [
    {
     "data": {
      "text/html": [
       "<div>\n",
       "<style scoped>\n",
       "    .dataframe tbody tr th:only-of-type {\n",
       "        vertical-align: middle;\n",
       "    }\n",
       "\n",
       "    .dataframe tbody tr th {\n",
       "        vertical-align: top;\n",
       "    }\n",
       "\n",
       "    .dataframe thead th {\n",
       "        text-align: right;\n",
       "    }\n",
       "</style>\n",
       "<table border=\"1\" class=\"dataframe\">\n",
       "  <thead>\n",
       "    <tr style=\"text-align: right;\">\n",
       "      <th></th>\n",
       "      <th>Fiskalertrag</th>\n",
       "    </tr>\n",
       "  </thead>\n",
       "  <tbody>\n",
       "    <tr>\n",
       "      <th>2010-12-31</th>\n",
       "      <td>1.602766e+09</td>\n",
       "    </tr>\n",
       "    <tr>\n",
       "      <th>2011-12-31</th>\n",
       "      <td>1.669572e+09</td>\n",
       "    </tr>\n",
       "    <tr>\n",
       "      <th>2012-12-31</th>\n",
       "      <td>1.712283e+09</td>\n",
       "    </tr>\n",
       "    <tr>\n",
       "      <th>2013-12-31</th>\n",
       "      <td>1.756856e+09</td>\n",
       "    </tr>\n",
       "    <tr>\n",
       "      <th>2014-12-31</th>\n",
       "      <td>1.781722e+09</td>\n",
       "    </tr>\n",
       "    <tr>\n",
       "      <th>2015-12-31</th>\n",
       "      <td>1.796759e+09</td>\n",
       "    </tr>\n",
       "    <tr>\n",
       "      <th>2016-12-31</th>\n",
       "      <td>1.791424e+09</td>\n",
       "    </tr>\n",
       "    <tr>\n",
       "      <th>2017-12-31</th>\n",
       "      <td>1.859737e+09</td>\n",
       "    </tr>\n",
       "    <tr>\n",
       "      <th>2018-12-31</th>\n",
       "      <td>1.896717e+09</td>\n",
       "    </tr>\n",
       "    <tr>\n",
       "      <th>2019-12-31</th>\n",
       "      <td>1.978258e+09</td>\n",
       "    </tr>\n",
       "  </tbody>\n",
       "</table>\n",
       "</div>"
      ],
      "text/plain": [
       "            Fiskalertrag\n",
       "2010-12-31  1.602766e+09\n",
       "2011-12-31  1.669572e+09\n",
       "2012-12-31  1.712283e+09\n",
       "2013-12-31  1.756856e+09\n",
       "2014-12-31  1.781722e+09\n",
       "2015-12-31  1.796759e+09\n",
       "2016-12-31  1.791424e+09\n",
       "2017-12-31  1.859737e+09\n",
       "2018-12-31  1.896717e+09\n",
       "2019-12-31  1.978258e+09"
      ]
     },
     "execution_count": 10,
     "metadata": {},
     "output_type": "execute_result"
    }
   ],
   "source": [
    "#df_jur\n",
    "#df_nat\n",
    "#df_jur\n",
    "df_ertrag"
   ]
  },
  {
   "cell_type": "markdown",
   "metadata": {},
   "source": [
    "**Merge**"
   ]
  },
  {
   "cell_type": "code",
   "execution_count": 11,
   "metadata": {},
   "outputs": [],
   "source": [
    "#Juristische und Natürliche Daten mergen\n",
    "df_jur_nat = df_jur.merge(df_nat, left_index=True, right_index=True, how='left')\n",
    "\n",
    "#df_ertrag dazu mergen, how='left' damit die Zahlen der Nullerjahre bei df_jur_nat bestehen bleiben\n",
    "df_all = df_jur_nat.merge(df_ertrag, left_index=True, right_index=True, how='left')"
   ]
  },
  {
   "cell_type": "markdown",
   "metadata": {},
   "source": [
    "# Code AG - 5. Teilauswertung"
   ]
  },
  {
   "cell_type": "markdown",
   "metadata": {},
   "source": [
    "Nun gilt es herauszufinden, wie sich die Steuersenkungen auf den Ertrag des Kantons Aargau ausgewirkt haben. \n",
    "\n",
    "Zunächst wird das Total der juristischen und natürlichen Steuern in eine csv-Datei exportiert für die Visualisierung mit Q-Tool. Zur Erinnerung: Total Jur. Steuern = Gewinn- und Kapitalsteuern, Total Nat. Steuern = Einkommens- und Vermögenssteuern\n",
    "\n",
    "Bei den natürlichen und juristischen Steuererträgen handelt es sich um die einfache Kantonssteuer (ohne Gemeindesteuern und Kantonssteuer-, Spital- und Finanzausgleichszuschlag).\n",
    "\n",
    "5. Entwicklung, wie viel der Kanton AG durch Gewinn- und Kapitalsteuern sowie Einkommens- und Vermögenssteuern einnimmt"
   ]
  },
  {
   "cell_type": "code",
   "execution_count": 12,
   "metadata": {},
   "outputs": [],
   "source": [
    "df_all[['Jur. Steuern Total', 'Nat. Steuern Total']].to_csv('Ergebnisse/steuererträge_jur_nat.csv')"
   ]
  },
  {
   "cell_type": "code",
   "execution_count": 13,
   "metadata": {},
   "outputs": [
    {
     "data": {
      "text/plain": [
       "<matplotlib.axes._subplots.AxesSubplot at 0x7f5239985a00>"
      ]
     },
     "execution_count": 13,
     "metadata": {},
     "output_type": "execute_result"
    },
    {
     "data": {
      "image/png": "[encoded data removed]",
      "text/plain": [
       "<Figure size 432x288 with 1 Axes>"
      ]
     },
     "metadata": {
      "needs_background": "light"
     },
     "output_type": "display_data"
    }
   ],
   "source": [
    "df_all[['Jur. Steuern Total', 'Nat. Steuern Total']].plot()"
   ]
  },
  {
   "cell_type": "markdown",
   "metadata": {},
   "source": [
    "**Zwischenfazit**\n",
    "\n",
    "Die 5. Teilauswertung stützt die These. Während die Erträge durch die steuerpfl. Bevölkerung fast jedes Jahr zunehmen, stagniert sie bei den juristischen."
   ]
  },
  {
   "cell_type": "markdown",
   "metadata": {},
   "source": [
    "# Code AG - 6. Teilauswertung"
   ]
  },
  {
   "cell_type": "markdown",
   "metadata": {},
   "source": [
    "Nun wird der Anteil von Firmen- und Personensteuern am Ertrag des Kantons berechnet. Das Total der Steuererträge wird durch den Fiskalertrag geteilt, mit 100 multipliziert (wegen Prozenten) und auf eine Nachkommastelle gerundet.\n",
    "\n",
    "\n",
    "6. Anteil der Firmen- und Personensteuern am Fiskalertrag der Aargauer Gemeinden"
   ]
  },
  {
   "cell_type": "code",
   "execution_count": 14,
   "metadata": {},
   "outputs": [],
   "source": [
    "df_all['jur_zu_ertrag_%'] = ((df_all['Jur. Steuern Total'] / df_all['Fiskalertrag']) * 100).round(1)\n",
    "df_all['nat_zu_ertrag_%'] = ((df_all['Nat. Steuern Total'] / df_all['Fiskalertrag']) * 100).round(1)\n",
    "\n",
    "#Export für Datawrapper\n",
    "df_all[['jur_zu_ertrag_%', 'nat_zu_ertrag_%']].to_csv('Ergebnisse/anteil_am_ertrag.csv')"
   ]
  },
  {
   "cell_type": "code",
   "execution_count": 15,
   "metadata": {},
   "outputs": [
    {
     "data": {
      "text/plain": [
       "<matplotlib.axes._subplots.AxesSubplot at 0x7f522d48e700>"
      ]
     },
     "execution_count": 15,
     "metadata": {},
     "output_type": "execute_result"
    },
    {
     "data": {
      "image/png": "[encoded data removed]",
      "text/plain": [
       "<Figure size 432x288 with 1 Axes>"
      ]
     },
     "metadata": {
      "needs_background": "light"
     },
     "output_type": "display_data"
    }
   ],
   "source": [
    "df_all[['jur_zu_ertrag_%', 'nat_zu_ertrag_%']].plot()"
   ]
  },
  {
   "cell_type": "markdown",
   "metadata": {},
   "source": [
    "**Zwischenfazit**\n",
    "\n",
    "Auch diese Teilauswertung stützt die These. Zwar scheint die Bedeutung der Steuern der natürlichen Personen am Ertrag nicht zugenommen haben. Die Bedeutung der juristischen hat hingegen abgenommen.\n",
    "\n",
    "Die Zahlen zu den Erträgen durch juristische respektive natürliche Personen stimmen in der Grössenordnung mit jenen überein, die der Kanton Aargau für das Jahr 2019 publiziert hat: https://www.ag.ch/de/dfr/finanzen/finanzpolitik_1/finanzkennzahlen/finanzkennzahlen_details/finanzkennzahlen_details_59912.jsp"
   ]
  },
  {
   "cell_type": "markdown",
   "metadata": {},
   "source": [
    "# Code AG - 7. Teilauswertung"
   ]
  },
  {
   "cell_type": "markdown",
   "metadata": {},
   "source": [
    "7. Entwicklung Steuerertrag pro Kopf resp. Firma\n",
    "\n",
    "Nun wird die Entwicklung des Steuerertrags pro Kopf und Firma beleuchtet. Dazu wird das Total der Steuern (jur./nat.) durch die jeweilige Anzahl Steuerpflichtige geteilt und auf eine Nachkommastelle gerundet. "
   ]
  },
  {
   "cell_type": "code",
   "execution_count": 16,
   "metadata": {},
   "outputs": [],
   "source": [
    "df_all['jur_pro_firma'] = (df_all['Jur. Steuern Total'] / df_all['Jur. Pflichtige']).round(1)\n",
    "df_all['nat_pro_person'] = (df_all['Nat. Steuern Total'] / df_all['Nat. Steuerpflichtige']).round(1)\n",
    "\n",
    "#Export für Datawrapper\n",
    "df_all[['jur_pro_firma', 'nat_pro_person']].to_csv('Ergebnisse/ertrag_pro_firma_kopf.csv')"
   ]
  },
  {
   "cell_type": "code",
   "execution_count": 17,
   "metadata": {
    "scrolled": true
   },
   "outputs": [
    {
     "data": {
      "text/plain": [
       "<matplotlib.axes._subplots.AxesSubplot at 0x7f52395664f0>"
      ]
     },
     "execution_count": 17,
     "metadata": {},
     "output_type": "execute_result"
    },
    {
     "data": {
      "image/png": "[encoded data removed]",
      "text/plain": [
       "<Figure size 432x288 with 1 Axes>"
      ]
     },
     "metadata": {
      "needs_background": "light"
     },
     "output_type": "display_data"
    }
   ],
   "source": [
    "df_all[['jur_pro_firma', 'nat_pro_person']].plot()"
   ]
  },
  {
   "cell_type": "markdown",
   "metadata": {},
   "source": [
    "**Zwischenfazit**\n",
    "\n",
    "Hier ist deutlich zu sehen: Die einzelne Unternehmung liefert seit über 10 Jahren fast immer weniger Steuern ab. Bei den natürlichen Personen steigt hingegen der Ertrag pro Kopf."
   ]
  },
  {
   "cell_type": "markdown",
   "metadata": {},
   "source": [
    "# Code AG - Zusatzauswertungen (für Analyse, aber nicht Visualisierung)"
   ]
  },
  {
   "cell_type": "markdown",
   "metadata": {},
   "source": [
    "Von allen Kennzahlen im Dataframe soll die Veränderung von 2017 gegenüber 2001 in Prozent errechnet werden. Dazu wird die Funktion pct_change gebaut, die von jeder Spalte die Veränderung in Prozent der letzten Zeile gegenüber der ersten (Länge des Dataframes(gemessen am Index) - 1) berechnet und auf eine Nachkommastelle rundet. Die Ergebnisse werden in einem neuen Dataframe gespeichert, von dem nur die letzte Zeile benötigt wird (der Rest ist NaN)."
   ]
  },
  {
   "cell_type": "code",
   "execution_count": 18,
   "metadata": {},
   "outputs": [],
   "source": [
    "def pct_change(elem):\n",
    "    elem = ((elem.pct_change(periods=len(df_all.index)-1)) * 100).round(1)\n",
    "    return elem\n",
    "    \n",
    "df_pct_change = df_all.apply(pct_change).tail(1)"
   ]
  },
  {
   "cell_type": "code",
   "execution_count": 19,
   "metadata": {
    "scrolled": true
   },
   "outputs": [
    {
     "data": {
      "text/html": [
       "<div>\n",
       "<style scoped>\n",
       "    .dataframe tbody tr th:only-of-type {\n",
       "        vertical-align: middle;\n",
       "    }\n",
       "\n",
       "    .dataframe tbody tr th {\n",
       "        vertical-align: top;\n",
       "    }\n",
       "\n",
       "    .dataframe thead th {\n",
       "        text-align: right;\n",
       "    }\n",
       "</style>\n",
       "<table border=\"1\" class=\"dataframe\">\n",
       "  <thead>\n",
       "    <tr style=\"text-align: right;\">\n",
       "      <th></th>\n",
       "      <th>Jur. Pflichtige</th>\n",
       "      <th>Reingewinn</th>\n",
       "      <th>Eigenkapital</th>\n",
       "      <th>Gewinnsteuerertrag</th>\n",
       "      <th>Kapitalsteuerertrag</th>\n",
       "      <th>Jur. Steuern Total</th>\n",
       "      <th>Nat. Steuern Total</th>\n",
       "      <th>Nat. Steuerpflichtige</th>\n",
       "      <th>Steuerbares Einkommen_pro_kopf</th>\n",
       "      <th>Steuerbares Einkommen Total</th>\n",
       "      <th>Fiskalertrag</th>\n",
       "      <th>jur_zu_ertrag_%</th>\n",
       "      <th>nat_zu_ertrag_%</th>\n",
       "      <th>jur_pro_firma</th>\n",
       "      <th>nat_pro_person</th>\n",
       "    </tr>\n",
       "  </thead>\n",
       "  <tbody>\n",
       "    <tr>\n",
       "      <th>2017-12-31</th>\n",
       "      <td>58.3</td>\n",
       "      <td>63.0</td>\n",
       "      <td>104.5</td>\n",
       "      <td>33.9</td>\n",
       "      <td>-59.6</td>\n",
       "      <td>14.6</td>\n",
       "      <td>36.7</td>\n",
       "      <td>28.0</td>\n",
       "      <td>13.3</td>\n",
       "      <td>45.0</td>\n",
       "      <td>NaN</td>\n",
       "      <td>NaN</td>\n",
       "      <td>NaN</td>\n",
       "      <td>-27.6</td>\n",
       "      <td>6.9</td>\n",
       "    </tr>\n",
       "  </tbody>\n",
       "</table>\n",
       "</div>"
      ],
      "text/plain": [
       "            Jur. Pflichtige  Reingewinn  Eigenkapital  Gewinnsteuerertrag  \\\n",
       "2017-12-31             58.3        63.0         104.5                33.9   \n",
       "\n",
       "            Kapitalsteuerertrag  Jur. Steuern Total  Nat. Steuern Total  \\\n",
       "2017-12-31                -59.6                14.6                36.7   \n",
       "\n",
       "            Nat. Steuerpflichtige  Steuerbares Einkommen_pro_kopf  \\\n",
       "2017-12-31                   28.0                            13.3   \n",
       "\n",
       "            Steuerbares Einkommen Total  Fiskalertrag  jur_zu_ertrag_%  \\\n",
       "2017-12-31                         45.0           NaN              NaN   \n",
       "\n",
       "            nat_zu_ertrag_%  jur_pro_firma  nat_pro_person  \n",
       "2017-12-31              NaN          -27.6             6.9  "
      ]
     },
     "execution_count": 19,
     "metadata": {},
     "output_type": "execute_result"
    }
   ],
   "source": [
    "df_pct_change"
   ]
  },
  {
   "cell_type": "markdown",
   "metadata": {},
   "source": [
    "**Zwischenfazit**"
   ]
  },
  {
   "cell_type": "markdown",
   "metadata": {},
   "source": [
    "Der Reingewinn der Firmen hat stärker zugenommen als das Total der steuerbaren Einkommen. Bei den Steuererträgen des Kantons klafft ebenfalls eine Lücke: Der Ertrag durch Gewinn- und Kapitalsteuern hat sich nur um 14,6 Prozent erhöht, jener durch Einkommens- und Vermögenssteuern hingegen um 36,7 Prozent.\n",
    "\n",
    "Für juristische und natürliche Personen positiv: Sie mussten 2017 auf ihr Einkommen und Vermögen resp. Gewinn und Kapital weniger Steuern bezahlen als noch 2001; der Steuerertrag aus diesen Quellen ist weniger stark gewachsen als die Quellen selber. Die juristischen Personen wurden allerdings deutlich stärker entlastet. Das zeigt sich auch beim Pro-Kopf-Vergleich: Pro Firma ist der Steuerertrag um mehr als ein Viertel gesunken, bei den natürlichen Personen ist er hingegen um zehn Prozent gestiegen. Natürlich spielen da noch andere Gründe mit, die abgeklärt werden müssen."
   ]
  }
 ],
 "metadata": {
  "kernelspec": {
   "display_name": "Python 3",
   "language": "python",
   "name": "python3"
  },
  "language_info": {
   "codemirror_mode": {
    "name": "ipython",
    "version": 3
   },
   "file_extension": ".py",
   "mimetype": "text/x-python",
   "name": "python",
   "nbconvert_exporter": "python",
   "pygments_lexer": "ipython3",
   "version": "3.8.3"
  }
 },
 "nbformat": 4,
 "nbformat_minor": 4
}
