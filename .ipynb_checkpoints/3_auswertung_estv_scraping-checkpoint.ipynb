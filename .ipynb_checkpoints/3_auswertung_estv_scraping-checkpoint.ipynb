{
 "cells": [
  {
   "cell_type": "markdown",
   "metadata": {},
   "source": [
    "# Code ESTV_2 - 3. Teilauswertung"
   ]
  },
  {
   "cell_type": "markdown",
   "metadata": {},
   "source": [
    "Hier werden die Daten aus den Excel-Files verarbeitet, die aus dem interkativen ESTV-Steuerrechner gescraped wurden. Zuerst werden sie in einem Dataframe zusammengeführt. Danach werden die Duplikate entfernt und das Datenset daraufhin untersucht, ob alle Gemeinden mit allen Haushaltstypen und Einkommen vorhanden sind.\n",
    "\n",
    "Dem vollständigen Dataframe wird schliesslich die Spalte Einkommenssteuer-Einnahmen aus der Datei Steuereinnahmen natürliche Personen hinzugefügt. Anhand des Werts von 2017 wird die Steuerbelastung gewichtet.\n",
    "\n",
    "Das Ziel: Die Steuerbelastung der natürlichen Personen 2016-2020 zu beleuchten, primär die Entwicklungen innerhalb der einzelnen Einkommensstufen.\n",
    "\n",
    "Grossartige Ressource zur Gewichtung mit Pandas-Groupby und apply: https://pbpython.com/weighted-average.html"
   ]
  },
  {
   "cell_type": "code",
   "execution_count": 1,
   "metadata": {},
   "outputs": [],
   "source": [
    "import pandas as pd\n",
    "import os\n",
    "%matplotlib inline"
   ]
  },
  {
   "cell_type": "code",
   "execution_count": 2,
   "metadata": {},
   "outputs": [],
   "source": [
    "#Alle Excel-Dateinamen in Liste speichern\n",
    "dateien = os.listdir('Daten/estv_steuerrechner')\n",
    "\n",
    "#für den Abgleich, ob alle Gemeinden im Datenset vorhanden sind\n",
    "df_gemeinden = pd.read_csv('Daten/kanton_ag_natürliche_gewichtung.csv', encoding='latin', delimiter=';')\n",
    "\n",
    "#Nur die Daten auswählen, die später gebraucht werden\n",
    "df_gemeinden = df_gemeinden[['BFSNR', 'NAME', 'DATUM', 'EKST_TOTAL']].copy()"
   ]
  },
  {
   "cell_type": "markdown",
   "metadata": {},
   "source": [
    "Alle gescrapten Excel-Files werden in einem Dataframe (df_all) vereinigt. Dieses enthält folgende Spalten:\n",
    "\n",
    "- Kantons-Id\n",
    "- Kanton (Kantonskürzel)\n",
    "- BfS-Id (der Gemeinde)\n",
    "- Gemeinde\n",
    "- Einkommensstufe\n",
    "- Vier Spalten mit den Belastungen 2016 - 2020\n",
    "- Status (Haushaltstyp)"
   ]
  },
  {
   "cell_type": "code",
   "execution_count": 3,
   "metadata": {},
   "outputs": [],
   "source": [
    "df_all = pd.DataFrame([])\n",
    "\n",
    "for i in range(len(dateien)):\n",
    "    df_temp = pd.read_excel('Daten/estv_steuerrechner/' + dateien[i])\n",
    "    haushaltstyp = df_temp.iloc[0,0]\n",
    "    df_temp['Status'] = haushaltstyp\n",
    "    df_all = pd.concat([df_all, df_temp])\n",
    "\n",
    "df_all.columns = df_all.iloc[5]\n",
    "df_all.rename(columns={'Verheiratet, zwei Renten (50/50)': 'Status'}, inplace=True)\n",
    "df_all.drop([0,1,2,3,4,5], axis=0, inplace=True)\n",
    "df_all.reset_index(drop=True, inplace=True)"
   ]
  },
  {
   "cell_type": "code",
   "execution_count": 4,
   "metadata": {},
   "outputs": [
    {
     "data": {
      "text/html": [
       "<div>\n",
       "<style scoped>\n",
       "    .dataframe tbody tr th:only-of-type {\n",
       "        vertical-align: middle;\n",
       "    }\n",
       "\n",
       "    .dataframe tbody tr th {\n",
       "        vertical-align: top;\n",
       "    }\n",
       "\n",
       "    .dataframe thead th {\n",
       "        text-align: right;\n",
       "    }\n",
       "</style>\n",
       "<table border=\"1\" class=\"dataframe\">\n",
       "  <thead>\n",
       "    <tr style=\"text-align: right;\">\n",
       "      <th>5</th>\n",
       "      <th>Kantons-Id</th>\n",
       "      <th>Kanton</th>\n",
       "      <th>BfS-Id</th>\n",
       "      <th>Gemeinde</th>\n",
       "      <th>Einkommen</th>\n",
       "      <th>2016.0</th>\n",
       "      <th>2017.0</th>\n",
       "      <th>2018.0</th>\n",
       "      <th>2019.0</th>\n",
       "      <th>2020.0</th>\n",
       "      <th>Status</th>\n",
       "    </tr>\n",
       "  </thead>\n",
       "  <tbody>\n",
       "    <tr>\n",
       "      <th>0</th>\n",
       "      <td>19</td>\n",
       "      <td>AG</td>\n",
       "      <td>4256</td>\n",
       "      <td>Obermumpf</td>\n",
       "      <td>50000</td>\n",
       "      <td>5.6860</td>\n",
       "      <td>5.6860</td>\n",
       "      <td>5.6860</td>\n",
       "      <td>5.6660</td>\n",
       "      <td>5.6400</td>\n",
       "      <td>Verheiratet, zwei Renten (50/50)</td>\n",
       "    </tr>\n",
       "    <tr>\n",
       "      <th>1</th>\n",
       "      <td>19</td>\n",
       "      <td>AG</td>\n",
       "      <td>4256</td>\n",
       "      <td>Obermumpf</td>\n",
       "      <td>100000</td>\n",
       "      <td>12.4680</td>\n",
       "      <td>12.4680</td>\n",
       "      <td>12.4680</td>\n",
       "      <td>12.4400</td>\n",
       "      <td>12.4020</td>\n",
       "      <td>Verheiratet, zwei Renten (50/50)</td>\n",
       "    </tr>\n",
       "    <tr>\n",
       "      <th>2</th>\n",
       "      <td>19</td>\n",
       "      <td>AG</td>\n",
       "      <td>4256</td>\n",
       "      <td>Obermumpf</td>\n",
       "      <td>200000</td>\n",
       "      <td>21.9440</td>\n",
       "      <td>21.9440</td>\n",
       "      <td>21.9440</td>\n",
       "      <td>21.9220</td>\n",
       "      <td>21.8905</td>\n",
       "      <td>Verheiratet, zwei Renten (50/50)</td>\n",
       "    </tr>\n",
       "    <tr>\n",
       "      <th>3</th>\n",
       "      <td>19</td>\n",
       "      <td>AG</td>\n",
       "      <td>4256</td>\n",
       "      <td>Obermumpf</td>\n",
       "      <td>500000</td>\n",
       "      <td>30.9828</td>\n",
       "      <td>30.9828</td>\n",
       "      <td>30.9826</td>\n",
       "      <td>30.9690</td>\n",
       "      <td>30.9488</td>\n",
       "      <td>Verheiratet, zwei Renten (50/50)</td>\n",
       "    </tr>\n",
       "    <tr>\n",
       "      <th>4</th>\n",
       "      <td>19</td>\n",
       "      <td>AG</td>\n",
       "      <td>4256</td>\n",
       "      <td>Obermumpf</td>\n",
       "      <td>1000000</td>\n",
       "      <td>34.5252</td>\n",
       "      <td>34.5252</td>\n",
       "      <td>34.5251</td>\n",
       "      <td>34.5153</td>\n",
       "      <td>34.5008</td>\n",
       "      <td>Verheiratet, zwei Renten (50/50)</td>\n",
       "    </tr>\n",
       "  </tbody>\n",
       "</table>\n",
       "</div>"
      ],
      "text/plain": [
       "5 Kantons-Id Kanton BfS-Id   Gemeinde Einkommen   2016.0   2017.0   2018.0  \\\n",
       "0         19     AG   4256  Obermumpf     50000   5.6860   5.6860   5.6860   \n",
       "1         19     AG   4256  Obermumpf    100000  12.4680  12.4680  12.4680   \n",
       "2         19     AG   4256  Obermumpf    200000  21.9440  21.9440  21.9440   \n",
       "3         19     AG   4256  Obermumpf    500000  30.9828  30.9828  30.9826   \n",
       "4         19     AG   4256  Obermumpf   1000000  34.5252  34.5252  34.5251   \n",
       "\n",
       "5   2019.0   2020.0                            Status  \n",
       "0   5.6660   5.6400  Verheiratet, zwei Renten (50/50)  \n",
       "1  12.4400  12.4020  Verheiratet, zwei Renten (50/50)  \n",
       "2  21.9220  21.8905  Verheiratet, zwei Renten (50/50)  \n",
       "3  30.9690  30.9488  Verheiratet, zwei Renten (50/50)  \n",
       "4  34.5153  34.5008  Verheiratet, zwei Renten (50/50)  "
      ]
     },
     "execution_count": 4,
     "metadata": {},
     "output_type": "execute_result"
    }
   ],
   "source": [
    "df_all.head()"
   ]
  },
  {
   "cell_type": "code",
   "execution_count": 5,
   "metadata": {
    "scrolled": true
   },
   "outputs": [
    {
     "name": "stdout",
     "output_type": "stream",
     "text": [
      "<class 'pandas.core.frame.DataFrame'>\n",
      "RangeIndex: 4695 entries, 0 to 4694\n",
      "Data columns (total 11 columns):\n",
      " #   Column      Non-Null Count  Dtype  \n",
      "---  ------      --------------  -----  \n",
      " 0   Kantons-Id  4695 non-null   object \n",
      " 1   Kanton      4695 non-null   object \n",
      " 2   BfS-Id      4695 non-null   object \n",
      " 3   Gemeinde    4695 non-null   object \n",
      " 4   Einkommen   4695 non-null   object \n",
      " 5   2016.0      4695 non-null   float64\n",
      " 6   2017.0      4695 non-null   float64\n",
      " 7   2018.0      4695 non-null   float64\n",
      " 8   2019.0      4695 non-null   float64\n",
      " 9   2020.0      4695 non-null   float64\n",
      " 10  Status      4695 non-null   object \n",
      "dtypes: float64(5), object(6)\n",
      "memory usage: 403.6+ KB\n"
     ]
    }
   ],
   "source": [
    "df_all.info()"
   ]
  },
  {
   "cell_type": "code",
   "execution_count": 6,
   "metadata": {},
   "outputs": [],
   "source": [
    "#checken, welche Nicht-Aargauer-Gemeinden im Dataframe sind\n",
    "#df_fremd = df_all[df_all['Kanton'] != 'AG'].copy()"
   ]
  },
  {
   "cell_type": "code",
   "execution_count": 7,
   "metadata": {},
   "outputs": [],
   "source": [
    "#Nur Aargauer Gemeinden mitnehmen\n",
    "df_all = df_all[df_all['Kanton'] == 'AG'].copy()\n",
    "\n",
    "#Duplikate entfernen\n",
    "df_all.drop_duplicates(inplace=True)"
   ]
  },
  {
   "cell_type": "markdown",
   "metadata": {},
   "source": [
    "Der folgende Abschnitt dient dazu zu überprüfen, ob für jede Gemeinde sämtliche Daten vorliegen. Jede Gemeinde muss 20 Mal vorkommen (4 Haushaltstypen, 5 Einkommen)"
   ]
  },
  {
   "cell_type": "code",
   "execution_count": 8,
   "metadata": {},
   "outputs": [],
   "source": [
    "#checken, wer mer als 20 oder weniger als 20 Einträge hat\n",
    "#df_all['count'] = df_all.groupby('Gemeinde')['Gemeinde'].transform('count')\n",
    "#df_count = df_all[df_all['count'] != 20].copy()\n",
    "\n",
    "#mehr als 20 Einträge. Es handelt sich um zwei Gemeinden (Lupfig, Reitnau), die vor kurzem zwei andere Gemeinden\n",
    "#durch Fusionen \"übernommen\" haben. Vor-Fusions-Jahre sind doppelt im Datensatz mit unterschiedlichen Steuerbelastungen.\n",
    "#Weil es sich um kleine Gemeinden handelt, beeinflussen sie das Endresultat nur unwesentlich.\n",
    "#Sie werden deshalb im Datenset belassen.\n",
    "#df_count[df_count['count'] > 20]['Gemeinde'].unique()\n",
    "\n",
    "#weniger als 20 Einträge. Diese müssen von Hand heruntergeladen werden\n",
    "#(funktionierte nur nach erstem (Probe-)Durchlauf. Es waren 8-10 Gemeinden betroffen)\n",
    "#df_count[df_count['count'] < 20]['Gemeinde'].unique()"
   ]
  },
  {
   "cell_type": "code",
   "execution_count": 9,
   "metadata": {},
   "outputs": [
    {
     "data": {
      "text/plain": [
       "210"
      ]
     },
     "execution_count": 9,
     "metadata": {},
     "output_type": "execute_result"
    }
   ],
   "source": [
    "#checken, wie viele Gemeinden im Dataframe sind. Der aktuelle Aargauer Gemeindestand ist 210\n",
    "len(df_all['Gemeinde'].unique())"
   ]
  },
  {
   "cell_type": "code",
   "execution_count": 10,
   "metadata": {},
   "outputs": [
    {
     "data": {
      "text/plain": [
       "4200"
      ]
     },
     "execution_count": 10,
     "metadata": {},
     "output_type": "execute_result"
    }
   ],
   "source": [
    "#Jeder Status (4) muss für jede Gemeinde (210) für jede Einkommensstufe (5) vorkommen. 4*210*5=4200\n",
    "#Das Total ist allerdings 4235\n",
    "df_all['Status'].value_counts().sum() # = 4235\n",
    "\n",
    "#1*20 (Reitnau) und 1*15 (Lupfig) überschüssige Zeilen erklären sich durch die in Kauf genommenen Doubletten.\n",
    "df_all['Status'].value_counts().sum() - 35\n",
    "\n",
    "#Also hat das Datenset die richtige Grösse."
   ]
  },
  {
   "cell_type": "markdown",
   "metadata": {},
   "source": [
    "Damit hat das Datenset die richtige Grösse und es kann damit gearbeitet werden. Kommen aber auch alle Gemeinden darin vor? "
   ]
  },
  {
   "cell_type": "code",
   "execution_count": 11,
   "metadata": {},
   "outputs": [],
   "source": [
    "#Für den Abgleich lade ich die Gemeinden (Bfs-Nr. grösser als 4000) aus einem anderen File\n",
    "df_gemeinden = df_gemeinden[df_gemeinden['BFSNR'] >= 4000].copy()"
   ]
  },
  {
   "cell_type": "code",
   "execution_count": 12,
   "metadata": {},
   "outputs": [],
   "source": [
    "#Für beide Dataframes die Bfs-Nummer als Index\n",
    "df_gemeinden.set_index('BFSNR', inplace=True)\n",
    "df_all.set_index('BfS-Id', inplace=True)"
   ]
  },
  {
   "cell_type": "code",
   "execution_count": 13,
   "metadata": {},
   "outputs": [],
   "source": [
    "#Beim Merge bleiben die Zeilen der Gemeinden leer, die in df_all nicht vorkommen\n",
    "df_merge = df_gemeinden.merge(df_all, left_index=True, right_index=True, how='left')"
   ]
  },
  {
   "cell_type": "code",
   "execution_count": 14,
   "metadata": {},
   "outputs": [],
   "source": [
    "#Fehlende Gemeinden in separates Datenset\n",
    "df_fehlend = df_merge[df_merge['Gemeinde'].isnull()].copy()"
   ]
  },
  {
   "cell_type": "code",
   "execution_count": 15,
   "metadata": {},
   "outputs": [
    {
     "data": {
      "text/plain": [
       "array(['Rohr', 'Oberehrendingen', 'Unterehrendingen',\n",
       "       'Hermetschwil-Staffeln', 'Hilfikon', 'Gallenkirch', 'Hottwil',\n",
       "       'Linn', 'Oberbözberg', 'Oberflachs', 'Rüfenach', 'Scherz',\n",
       "       'Schinznach-Dorf', 'Stilli', 'Umiken', 'Unterbözberg', 'Etzgen',\n",
       "       'Ittenthal', 'Mettau', 'Oberhofen', 'Sulz', 'Wil', 'Benzenschwil',\n",
       "       'Attelwil', 'Mühlethal', 'Unterendingen'], dtype=object)"
      ]
     },
     "execution_count": 15,
     "metadata": {},
     "output_type": "execute_result"
    }
   ],
   "source": [
    "#Diese Gemeinden sind in df_all nicht vertreten\n",
    "df_fehlend['NAME'].unique()"
   ]
  },
  {
   "cell_type": "markdown",
   "metadata": {},
   "source": [
    "Es handelt sich um seit 2016 'wegfusionierte Gemeinden', ausser bei Schinznach-Dorf, das als 'Schinznach' im Datenset vertreten ist. Somit kann gesagt werden, dass die Daten gemäss Gemeindestand von 2020 komplett sind."
   ]
  },
  {
   "cell_type": "code",
   "execution_count": 16,
   "metadata": {},
   "outputs": [],
   "source": [
    "#zunächst wird das df sinnvoll sortiert und zwei überflüssige Spalten gelöscht\n",
    "df_all.sort_values(['BfS-Id', 'Status', 'Einkommen'], inplace=True)\n",
    "df_all.drop(['Kantons-Id', 'Kanton'], axis=1, inplace=True)\n",
    "\n",
    "#Nun wird das df ins Long-Format gebracht durch pd.melt\n",
    "df_all = pd.melt(df_all, id_vars=['Gemeinde', 'Einkommen', 'Status'], var_name='Jahr', value_name='Steuerbelastung_%', ignore_index=False)\n",
    "\n",
    "#Type von Jahr und Einkommen ändern (object -> int)\n",
    "df_all['Jahr'] = df_all['Jahr'].astype(int)\n",
    "df_all['Einkommen'] = df_all['Einkommen'].astype(int)"
   ]
  },
  {
   "cell_type": "code",
   "execution_count": 17,
   "metadata": {},
   "outputs": [
    {
     "data": {
      "text/html": [
       "<div>\n",
       "<style scoped>\n",
       "    .dataframe tbody tr th:only-of-type {\n",
       "        vertical-align: middle;\n",
       "    }\n",
       "\n",
       "    .dataframe tbody tr th {\n",
       "        vertical-align: top;\n",
       "    }\n",
       "\n",
       "    .dataframe thead th {\n",
       "        text-align: right;\n",
       "    }\n",
       "</style>\n",
       "<table border=\"1\" class=\"dataframe\">\n",
       "  <thead>\n",
       "    <tr style=\"text-align: right;\">\n",
       "      <th></th>\n",
       "      <th>Gemeinde</th>\n",
       "      <th>Einkommen</th>\n",
       "      <th>Status</th>\n",
       "      <th>Jahr</th>\n",
       "      <th>Steuerbelastung_%</th>\n",
       "    </tr>\n",
       "    <tr>\n",
       "      <th>BfS-Id</th>\n",
       "      <th></th>\n",
       "      <th></th>\n",
       "      <th></th>\n",
       "      <th></th>\n",
       "      <th></th>\n",
       "    </tr>\n",
       "  </thead>\n",
       "  <tbody>\n",
       "    <tr>\n",
       "      <th>4001</th>\n",
       "      <td>Aarau</td>\n",
       "      <td>50000</td>\n",
       "      <td>Ledig, ohne Kinder</td>\n",
       "      <td>2016</td>\n",
       "      <td>7.8680</td>\n",
       "    </tr>\n",
       "    <tr>\n",
       "      <th>4001</th>\n",
       "      <td>Aarau</td>\n",
       "      <td>100000</td>\n",
       "      <td>Ledig, ohne Kinder</td>\n",
       "      <td>2016</td>\n",
       "      <td>13.6260</td>\n",
       "    </tr>\n",
       "    <tr>\n",
       "      <th>4001</th>\n",
       "      <td>Aarau</td>\n",
       "      <td>200000</td>\n",
       "      <td>Ledig, ohne Kinder</td>\n",
       "      <td>2016</td>\n",
       "      <td>20.1050</td>\n",
       "    </tr>\n",
       "    <tr>\n",
       "      <th>4001</th>\n",
       "      <td>Aarau</td>\n",
       "      <td>500000</td>\n",
       "      <td>Ledig, ohne Kinder</td>\n",
       "      <td>2016</td>\n",
       "      <td>27.2652</td>\n",
       "    </tr>\n",
       "    <tr>\n",
       "      <th>4001</th>\n",
       "      <td>Aarau</td>\n",
       "      <td>1000000</td>\n",
       "      <td>Ledig, ohne Kinder</td>\n",
       "      <td>2016</td>\n",
       "      <td>29.6788</td>\n",
       "    </tr>\n",
       "  </tbody>\n",
       "</table>\n",
       "</div>"
      ],
      "text/plain": [
       "       Gemeinde  Einkommen              Status  Jahr  Steuerbelastung_%\n",
       "BfS-Id                                                                 \n",
       "4001      Aarau      50000  Ledig, ohne Kinder  2016             7.8680\n",
       "4001      Aarau     100000  Ledig, ohne Kinder  2016            13.6260\n",
       "4001      Aarau     200000  Ledig, ohne Kinder  2016            20.1050\n",
       "4001      Aarau     500000  Ledig, ohne Kinder  2016            27.2652\n",
       "4001      Aarau    1000000  Ledig, ohne Kinder  2016            29.6788"
      ]
     },
     "execution_count": 17,
     "metadata": {},
     "output_type": "execute_result"
    }
   ],
   "source": [
    "df_all.head()"
   ]
  },
  {
   "cell_type": "code",
   "execution_count": 18,
   "metadata": {},
   "outputs": [
    {
     "name": "stdout",
     "output_type": "stream",
     "text": [
      "<class 'pandas.core.frame.DataFrame'>\n",
      "Int64Index: 21175 entries, 4001 to 4323\n",
      "Data columns (total 5 columns):\n",
      " #   Column             Non-Null Count  Dtype  \n",
      "---  ------             --------------  -----  \n",
      " 0   Gemeinde           21175 non-null  object \n",
      " 1   Einkommen          21175 non-null  int64  \n",
      " 2   Status             21175 non-null  object \n",
      " 3   Jahr               21175 non-null  int64  \n",
      " 4   Steuerbelastung_%  21175 non-null  float64\n",
      "dtypes: float64(1), int64(2), object(2)\n",
      "memory usage: 992.6+ KB\n"
     ]
    }
   ],
   "source": [
    "df_all.info()"
   ]
  },
  {
   "cell_type": "markdown",
   "metadata": {},
   "source": [
    "**Gewichtung**"
   ]
  },
  {
   "cell_type": "code",
   "execution_count": 19,
   "metadata": {},
   "outputs": [],
   "source": [
    "#Vom df_gemeinden braucht es für die Gewichtung nur die aktuellsten Werte von 2017\n",
    "df_gemeinden = df_gemeinden[df_gemeinden['DATUM'] == '2017-12-31'].copy()\n",
    "df_gemeinden.reset_index(inplace=True)\n",
    "df_gemeinden.set_index('NAME', inplace=True)\n",
    "\n",
    "#Wie hoch ist die Summe aller Einkommenssteuer-Erträge der Gemeinden?\n",
    "einkommenssteuer_gesamt = df_gemeinden['EKST_TOTAL'].sum()\n",
    "\n",
    "#Anteil jeder Gemeinden am Total der Einkommenssteuer berechnen\n",
    "df_gemeinden['Anteil an Total-Einkommenssteuer'] = (df_gemeinden['EKST_TOTAL'] / einkommenssteuer_gesamt) * 100"
   ]
  },
  {
   "cell_type": "code",
   "execution_count": 20,
   "metadata": {},
   "outputs": [
    {
     "data": {
      "text/plain": [
       "Index(['Baden', 'Aarau', 'Wettingen', 'Rheinfelden', 'Wohlen (AG)', 'Zofingen',\n",
       "       'Lenzburg', 'Brugg', 'Oftringen', 'Möhlin', 'Obersiggenthal', 'Suhr',\n",
       "       'Bremgarten (AG)', 'Rothrist', 'Würenlos', 'Küttigen', 'Spreitenbach',\n",
       "       'Muri (AG)', 'Buchs (AG)', 'Untersiggenthal'],\n",
       "      dtype='object', name='NAME')"
      ]
     },
     "execution_count": 20,
     "metadata": {},
     "output_type": "execute_result"
    }
   ],
   "source": [
    "#Check, welche Gemeinden den grössten Anteil haben\n",
    "df_check = df_gemeinden.sort_values(by='Anteil an Total-Einkommenssteuer', ascending=False)\n",
    "df_check.index.unique()[:20]\n",
    "\n",
    "#Fazit: Das kann stimmen, die grossen und grösseren Städte sowie Dörfer sind ganz vorne anzutreffen"
   ]
  },
  {
   "cell_type": "code",
   "execution_count": 21,
   "metadata": {},
   "outputs": [
    {
     "data": {
      "text/plain": [
       "100.0"
      ]
     },
     "execution_count": 21,
     "metadata": {},
     "output_type": "execute_result"
    }
   ],
   "source": [
    "#Check, ob die Summe aller Anteile 100 ergibt\n",
    "df_check['Anteil an Total-Einkommenssteuer'].sum()"
   ]
  },
  {
   "cell_type": "code",
   "execution_count": 22,
   "metadata": {},
   "outputs": [],
   "source": [
    "#Für jede Gemeinde in jedem Jahr für jedes Einkommen die Steuerbelastung berechnen (Durchschnitt der Haushaltstypen)\n",
    "df_final = pd.DataFrame(df_all.groupby(['Gemeinde', 'Jahr', 'Einkommen'])['Steuerbelastung_%'].mean())\n",
    "df_final.reset_index(['Jahr', 'Einkommen'], inplace=True)\n",
    "\n",
    "#df_gemeinden dazumergen. Anteil an Total-Einkommenssteuer behalten, restliche beiden Spalten von df_gemeinden löschen\n",
    "df_final = df_final.merge(df_gemeinden, left_index=True, right_index=True, how='left')\n",
    "df_final.drop(['DATUM', 'EKST_TOTAL'], axis=1, inplace=True)"
   ]
  },
  {
   "cell_type": "code",
   "execution_count": 23,
   "metadata": {},
   "outputs": [
    {
     "data": {
      "text/html": [
       "<div>\n",
       "<style scoped>\n",
       "    .dataframe tbody tr th:only-of-type {\n",
       "        vertical-align: middle;\n",
       "    }\n",
       "\n",
       "    .dataframe tbody tr th {\n",
       "        vertical-align: top;\n",
       "    }\n",
       "\n",
       "    .dataframe thead th {\n",
       "        text-align: right;\n",
       "    }\n",
       "</style>\n",
       "<table border=\"1\" class=\"dataframe\">\n",
       "  <thead>\n",
       "    <tr style=\"text-align: right;\">\n",
       "      <th></th>\n",
       "      <th>Jahr</th>\n",
       "      <th>Einkommen</th>\n",
       "      <th>Steuerbelastung_%</th>\n",
       "      <th>BFSNR</th>\n",
       "      <th>Anteil an Total-Einkommenssteuer</th>\n",
       "    </tr>\n",
       "  </thead>\n",
       "  <tbody>\n",
       "    <tr>\n",
       "      <th>Aarau</th>\n",
       "      <td>2016</td>\n",
       "      <td>50000</td>\n",
       "      <td>4.375500</td>\n",
       "      <td>4001</td>\n",
       "      <td>3.809827</td>\n",
       "    </tr>\n",
       "    <tr>\n",
       "      <th>Aarau</th>\n",
       "      <td>2016</td>\n",
       "      <td>100000</td>\n",
       "      <td>9.706750</td>\n",
       "      <td>4001</td>\n",
       "      <td>3.809827</td>\n",
       "    </tr>\n",
       "    <tr>\n",
       "      <th>Aarau</th>\n",
       "      <td>2016</td>\n",
       "      <td>200000</td>\n",
       "      <td>17.513750</td>\n",
       "      <td>4001</td>\n",
       "      <td>3.809827</td>\n",
       "    </tr>\n",
       "    <tr>\n",
       "      <th>Aarau</th>\n",
       "      <td>2016</td>\n",
       "      <td>500000</td>\n",
       "      <td>26.160050</td>\n",
       "      <td>4001</td>\n",
       "      <td>3.809827</td>\n",
       "    </tr>\n",
       "    <tr>\n",
       "      <th>Aarau</th>\n",
       "      <td>2016</td>\n",
       "      <td>1000000</td>\n",
       "      <td>29.457825</td>\n",
       "      <td>4001</td>\n",
       "      <td>3.809827</td>\n",
       "    </tr>\n",
       "  </tbody>\n",
       "</table>\n",
       "</div>"
      ],
      "text/plain": [
       "       Jahr  Einkommen  Steuerbelastung_%  BFSNR  \\\n",
       "Aarau  2016      50000           4.375500   4001   \n",
       "Aarau  2016     100000           9.706750   4001   \n",
       "Aarau  2016     200000          17.513750   4001   \n",
       "Aarau  2016     500000          26.160050   4001   \n",
       "Aarau  2016    1000000          29.457825   4001   \n",
       "\n",
       "       Anteil an Total-Einkommenssteuer  \n",
       "Aarau                          3.809827  \n",
       "Aarau                          3.809827  \n",
       "Aarau                          3.809827  \n",
       "Aarau                          3.809827  \n",
       "Aarau                          3.809827  "
      ]
     },
     "execution_count": 23,
     "metadata": {},
     "output_type": "execute_result"
    }
   ],
   "source": [
    "df_final.head()"
   ]
  },
  {
   "cell_type": "markdown",
   "metadata": {},
   "source": [
    "Nun werden die Belastungen für Jedes Jahr und jedes Einkommen berechnet. Dazu wird nach diesen Spalten gruppiert. Gleichzeitig werden die Belastungswerte der Gemeinden nach dem Anteil der Gemeinde am gesamten Einkommenssteuerertrag gewichtet.\n",
    "\n",
    "Zur Funktion 'gewichter'. Sie nimmt drei Argumente entgegen: Das Dataframe und die Namen der Spalten der Steuerbelastung und des Gewichts. Jede Belastung wird mit dem jeweiligen Gewicht multipliziert. Davon wird die Summe genommen. Diese wird durch die Summe aller Gewichte (100) geteilt und auf zwei Nachkommastellen gerundet. Das ergibt 25 Summen: eine für jede Kombination von Jahr (5) und Einkommen (5)."
   ]
  },
  {
   "cell_type": "code",
   "execution_count": 24,
   "metadata": {},
   "outputs": [
    {
     "name": "stdout",
     "output_type": "stream",
     "text": [
      "<class 'pandas.core.frame.DataFrame'>\n",
      "Index: 5250 entries, Aarau to Zuzgen\n",
      "Data columns (total 5 columns):\n",
      " #   Column                            Non-Null Count  Dtype  \n",
      "---  ------                            --------------  -----  \n",
      " 0   Jahr                              5250 non-null   int64  \n",
      " 1   Einkommen                         5250 non-null   int64  \n",
      " 2   Steuerbelastung_%                 5250 non-null   float64\n",
      " 3   BFSNR                             5250 non-null   int64  \n",
      " 4   Anteil an Total-Einkommenssteuer  5250 non-null   float64\n",
      "dtypes: float64(2), int64(3)\n",
      "memory usage: 246.1+ KB\n"
     ]
    }
   ],
   "source": [
    "df_final.info()"
   ]
  },
  {
   "cell_type": "code",
   "execution_count": 25,
   "metadata": {},
   "outputs": [],
   "source": [
    "def gewichter(df, steuern, gewicht):\n",
    "    s = df[steuern]\n",
    "    g = df[gewicht]\n",
    "    \n",
    "    return ((s * g).sum() / g.sum()).round(2)\n",
    "\n",
    "df_final = pd.DataFrame(df_final.groupby(['Jahr', 'Einkommen']).apply(gewichter, 'Steuerbelastung_%', 'Anteil an Total-Einkommenssteuer'))\n",
    "df_final.reset_index('Einkommen', inplace=True)\n",
    "df_final.rename(columns={0: 'average_steuerbelastung_%'}, inplace=True)\n",
    "\n",
    "#Pivotieren von long zu wide, damit nachher die Differenz zwischen 2006 und 2020 in Prozentpunkten einfach\n",
    "#berechnet werden kann mit diff()\n",
    "df_final = df_final.pivot_table(index=df_final.index, columns='Einkommen', values='average_steuerbelastung_%')"
   ]
  },
  {
   "cell_type": "code",
   "execution_count": 26,
   "metadata": {},
   "outputs": [
    {
     "data": {
      "text/plain": [
       "<matplotlib.axes._subplots.AxesSubplot at 0x7fbc0931a490>"
      ]
     },
     "execution_count": 26,
     "metadata": {},
     "output_type": "execute_result"
    },
    {
     "data": {
      "image/png": "[encoded data removed]",
      "text/plain": [
       "<Figure size 432x288 with 1 Axes>"
      ]
     },
     "metadata": {
      "needs_background": "light"
     },
     "output_type": "display_data"
    }
   ],
   "source": [
    "df_final.plot()"
   ]
  },
  {
   "cell_type": "code",
   "execution_count": 27,
   "metadata": {},
   "outputs": [
    {
     "data": {
      "text/html": [
       "<div>\n",
       "<style scoped>\n",
       "    .dataframe tbody tr th:only-of-type {\n",
       "        vertical-align: middle;\n",
       "    }\n",
       "\n",
       "    .dataframe tbody tr th {\n",
       "        vertical-align: top;\n",
       "    }\n",
       "\n",
       "    .dataframe thead th {\n",
       "        text-align: right;\n",
       "    }\n",
       "</style>\n",
       "<table border=\"1\" class=\"dataframe\">\n",
       "  <thead>\n",
       "    <tr style=\"text-align: right;\">\n",
       "      <th>Einkommen</th>\n",
       "      <th>50000</th>\n",
       "      <th>100000</th>\n",
       "      <th>200000</th>\n",
       "      <th>500000</th>\n",
       "      <th>1000000</th>\n",
       "    </tr>\n",
       "    <tr>\n",
       "      <th>Jahr</th>\n",
       "      <th></th>\n",
       "      <th></th>\n",
       "      <th></th>\n",
       "      <th></th>\n",
       "      <th></th>\n",
       "    </tr>\n",
       "  </thead>\n",
       "  <tbody>\n",
       "    <tr>\n",
       "      <th>2016</th>\n",
       "      <td>NaN</td>\n",
       "      <td>NaN</td>\n",
       "      <td>NaN</td>\n",
       "      <td>NaN</td>\n",
       "      <td>NaN</td>\n",
       "    </tr>\n",
       "    <tr>\n",
       "      <th>2017</th>\n",
       "      <td>NaN</td>\n",
       "      <td>NaN</td>\n",
       "      <td>NaN</td>\n",
       "      <td>NaN</td>\n",
       "      <td>NaN</td>\n",
       "    </tr>\n",
       "    <tr>\n",
       "      <th>2018</th>\n",
       "      <td>NaN</td>\n",
       "      <td>NaN</td>\n",
       "      <td>NaN</td>\n",
       "      <td>NaN</td>\n",
       "      <td>NaN</td>\n",
       "    </tr>\n",
       "    <tr>\n",
       "      <th>2019</th>\n",
       "      <td>NaN</td>\n",
       "      <td>NaN</td>\n",
       "      <td>NaN</td>\n",
       "      <td>NaN</td>\n",
       "      <td>NaN</td>\n",
       "    </tr>\n",
       "    <tr>\n",
       "      <th>2020</th>\n",
       "      <td>-0.02</td>\n",
       "      <td>-0.02</td>\n",
       "      <td>0.03</td>\n",
       "      <td>0.08</td>\n",
       "      <td>0.1</td>\n",
       "    </tr>\n",
       "  </tbody>\n",
       "</table>\n",
       "</div>"
      ],
      "text/plain": [
       "Einkommen  50000    100000   200000   500000   1000000\n",
       "Jahr                                                  \n",
       "2016           NaN      NaN      NaN      NaN      NaN\n",
       "2017           NaN      NaN      NaN      NaN      NaN\n",
       "2018           NaN      NaN      NaN      NaN      NaN\n",
       "2019           NaN      NaN      NaN      NaN      NaN\n",
       "2020         -0.02    -0.02     0.03     0.08      0.1"
      ]
     },
     "execution_count": 27,
     "metadata": {},
     "output_type": "execute_result"
    }
   ],
   "source": [
    "df_final.diff(periods=4)"
   ]
  },
  {
   "cell_type": "markdown",
   "metadata": {},
   "source": [
    "**Fazit**\n",
    "\n",
    "In den letzten vier Jahren haben bei den natürlichen Personen nur minimste Belastungsveränderungen stattgefunden. Das kann man zumindest für die vier untersuchten Haushaltstypen feststellen."
   ]
  }
 ],
 "metadata": {
  "kernelspec": {
   "display_name": "Python 3",
   "language": "python",
   "name": "python3"
  },
  "language_info": {
   "codemirror_mode": {
    "name": "ipython",
    "version": 3
   },
   "file_extension": ".py",
   "mimetype": "text/x-python",
   "name": "python",
   "nbconvert_exporter": "python",
   "pygments_lexer": "ipython3",
   "version": "3.8.3"
  }
 },
 "nbformat": 4,
 "nbformat_minor": 4
}
