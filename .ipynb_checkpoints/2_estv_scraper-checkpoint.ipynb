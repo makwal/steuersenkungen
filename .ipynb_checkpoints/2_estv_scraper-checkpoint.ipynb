{
 "cells": [
  {
   "cell_type": "markdown",
   "metadata": {},
   "source": [
    "# Selenium-Scraper Eidgenössische Steuerverwaltung"
   ]
  },
  {
   "cell_type": "markdown",
   "metadata": {},
   "source": [
    "Mit diesem Scraper wird die interaktive Steuerbelastungsstatistik der Eidgenössischen Steuerverwaltung (ESTV) gescrapt: \n",
    "https://swisstaxcalculator.estv.admin.ch/#/taxburden/income-wealth-tax\n",
    "\n",
    "Weil die Seite interaktiv ist, wird Selenium eingesetzt. Das Ziel ist es, für jede Aargauer Gemeinde für fünf verschiedene Haushaltstypen und Einkommen die Steuerbelastungen in Prozent für die Jahre 2016 bis 2020 als Excel-Datei (einfachste Möglichkeit) herunterzuladen. Für die Haushaltstypen und Einkommen orientiere ich mich am ESTV-Bericht \"Unterschiede in der Steuerbelastung natürlicher und juristischer Personen 2004 – 2016\"."
   ]
  },
  {
   "cell_type": "markdown",
   "metadata": {},
   "source": [
    "# Vorgehen"
   ]
  },
  {
   "cell_type": "markdown",
   "metadata": {},
   "source": [
    "Auf der Website müssen mehrere Optionen aus Buttons und Dropdowns gewählt werden. Dazu wird im Folgenden immer die Funktion find_element_by_xpath benutzt. An einer Stelle muss die Gemeinde eingegeben werden. Jene Gemeinden, die nicht funktionieren, werden in einer csv-Datei gespeichert, damit sie später von Hand heruntergeladen werden können."
   ]
  },
  {
   "cell_type": "code",
   "execution_count": null,
   "metadata": {},
   "outputs": [],
   "source": [
    "from selenium import webdriver\n",
    "from time import sleep\n",
    "import pandas as pd\n",
    "import csv"
   ]
  },
  {
   "cell_type": "markdown",
   "metadata": {},
   "source": [
    "Um eine Liste der Aargauer Gemeinden zu erstellen, wird zunächst eine Liste der Aargauer Gemeinden importiert. Daraus werden alle Gemeinden (BFS-Nummer grösser als 4000) benötigt. Jede Gemeinde wird einmal (unique) in der Liste 'gemeindeliste' abgelegt. Weil es sich um eine Liste des Jahres 2017 handelt, hat es auch Gemeinden darunter, die wegen Fusionen nicht mehr existieren. Diese werden in der Liste der fehlerhaften Gemeinden gelistet, sind aber nicht weiter zu beachten."
   ]
  },
  {
   "cell_type": "code",
   "execution_count": null,
   "metadata": {},
   "outputs": [],
   "source": [
    "df = pd.read_csv('Daten/kanton_ag_gemeindestand.csv', encoding='latin', delimiter=';')\n",
    "\n",
    "df = df[df['BFSNR'] > 4000].copy()\n",
    "gemeindeliste = df['NAME'].unique().tolist()"
   ]
  },
  {
   "cell_type": "markdown",
   "metadata": {},
   "source": [
    "Aus dem ersten Durchlauf mit einem Haushaltstyp ist bekannt, welche Gemeinden auf der ESTV-Seite nicht gefunden wurden. Diese werden im nächsten Schritt entfernt und durch die Namen ersetzt, unter der die Gemeinden tatsächlich zu finden sind."
   ]
  },
  {
   "cell_type": "code",
   "execution_count": null,
   "metadata": {},
   "outputs": [],
   "source": [
    "gemeinden_entfernen = ['Rudolfstetten-Friedlisberg', 'Schinznach-Bad', 'Schinznach-Dorf', 'Schinznach', 'Möriken-Wildegg']\n",
    "gemeinden_hinzufügen = ['Rudolfstetten', 'Schinznach Bad', 'Schinznach Dorf', 'Möriken AG']\n",
    "\n",
    "for g in gemeinden_entfernen:\n",
    "    gemeindeliste.remove(g)\n",
    "\n",
    "for g in gemeinden_hinzufügen:\n",
    "    gemeindeliste.append(g)"
   ]
  },
  {
   "cell_type": "code",
   "execution_count": null,
   "metadata": {},
   "outputs": [],
   "source": [
    "gemeindeliste[0:6]"
   ]
  },
  {
   "cell_type": "code",
   "execution_count": null,
   "metadata": {},
   "outputs": [],
   "source": [
    "len(gemeindeliste)"
   ]
  },
  {
   "cell_type": "markdown",
   "metadata": {},
   "source": [
    "Nun zum eigentlichen Scraper. In der csv-Datei werden jene Gemeinden erfasst, für die eine Fehlermeldung kommt. Dies wird gemacht, um jene Gemeinden zu sammeln, die in der ESTV-Liste nicht vorkommen, die also später von Hand heruntergeladen werden müssen. Es handelt sich dabei nur um eine, wie sich nach einem ersten ganzen Durchlauf zeigt: Erlinsbach (AG). Weitere Gemeinden werden gelistet, existieren aber heute nicht mehr (wegen Gemeindefusionen) und sind darum irrelevant.\n",
    "\n",
    "Für jeden Haushaltstyp und jede Gemeinde (innerer Loop) wird die Seite aufgerufen."
   ]
  },
  {
   "cell_type": "code",
   "execution_count": null,
   "metadata": {},
   "outputs": [],
   "source": [
    "haushaltstypen_xpath = {'ledig': '//*[@id=\"mass-export-model\"]/div[2]/select/option[2]',\n",
    "                        'vereiratet_o_kinder': '//*[@id=\"mass-export-model\"]/div[2]/select/option[7]',\n",
    "                       'verheiratet_m_kinder': '//*[@id=\"mass-export-model\"]/div[2]/select/option[9]',\n",
    "                       'rentner': '//*[@id=\"mass-export-model\"]/div[2]/select/option[24]'\n",
    "}\n",
    "\n",
    "with open('gemeindeliste.csv', 'a+') as file:\n",
    "    csv_writer = csv.writer(file)\n",
    "    \n",
    "    for haushaltstyp, xpath in haushaltstypen_xpath.items():\n",
    "        \n",
    "        for gemeinde in gemeindeliste:\n",
    "\n",
    "            #Chromedriver starten, Seite aufrufen\n",
    "            driver = webdriver.Chrome()\n",
    "            driver.get('https://swisstaxcalculator.estv.admin.ch/#/taxburden/income-wealth-tax')\n",
    "            sleep(2)\n",
    "\n",
    "            #Steuersubjekt aus Dropdown auswählen\n",
    "            driver.find_element_by_xpath(xpath).click()\n",
    "\n",
    "            #Konfession = 'keine/andere' anklicken\n",
    "            driver.find_element_by_xpath('//*[@id=\"CONFESSION\"]/div[2]/div/div[4]').click()\n",
    "\n",
    "            #Vergleich über Steuerjahre anklicken\n",
    "            driver.find_element_by_xpath('//*[@id=\"STATISTIC_TYPE\"]/div[2]/div/div[1]/div').click()\n",
    "\n",
    "            #2016\n",
    "            driver.find_element_by_xpath('//*[@id=\"YEARS\"]/div[2]/div/div/div[3]/div').click()\n",
    "            #2017\n",
    "            driver.find_element_by_xpath('//*[@id=\"YEARS\"]/div[2]/div/div/div[4]/div').click()\n",
    "            #2018\n",
    "            driver.find_element_by_xpath('//*[@id=\"YEARS\"]/div[2]/div/div/div[5]/div').click()\n",
    "            #2019\n",
    "            driver.find_element_by_xpath('//*[@id=\"YEARS\"]/div[2]/div/div/div[6]/div').click()\n",
    "            #2020\n",
    "            driver.find_element_by_xpath('//*[@id=\"YEARS\"]/div[2]/div/div/div[7]/div').click()\n",
    "\n",
    "            #Einkommen\n",
    "            driver.find_element_by_xpath('//*[@id=\"INCOMES-text\"]/div').click()\n",
    "\n",
    "            sleep(2)\n",
    "\n",
    "            #50k\n",
    "            driver.find_element_by_xpath('//*[@id=\"KLASSE\"]/div[2]/div[2]/div/div[8]/div').click()\n",
    "            #100k\n",
    "            driver.find_element_by_xpath('//*[@id=\"KLASSE\"]/div[2]/div[2]/div/div[13]/div').click()\n",
    "            #200k\n",
    "            driver.find_element_by_xpath('//*[@id=\"KLASSE\"]/div[2]/div[2]/div/div[17]/div').click()\n",
    "            #500k\n",
    "            driver.find_element_by_xpath('//*[@id=\"KLASSE\"]/div[2]/div[2]/div/div[21]/div').click()\n",
    "            #1000k\n",
    "            driver.find_element_by_xpath('//*[@id=\"KLASSE\"]/div[2]/div[2]/div/div[23]/div').click()\n",
    "\n",
    "            #Gemeinde. Zunächst muss das Feld angeklickt werden\n",
    "            driver.find_element_by_xpath('//*[@id=\"tax-group-type-TAX_LOCATION\"]/div').click()\n",
    "            sleep(1)\n",
    "\n",
    "            #nach einer kurzen Pause kann der Gemeindename eingegeben werden\n",
    "            driver.find_element_by_xpath('//*[@id=\"downshift-0-input\"]').send_keys(gemeinde)\n",
    "            sleep(2)\n",
    "\n",
    "            try:\n",
    "                #hier wird die Gemeinde angewählt\n",
    "                gemeinde_wählen = driver.find_element_by_xpath('//*[@id=\"downshift-0-item-0\"]')\n",
    "                sleep(2)\n",
    "                gemeinde_wählen.click()\n",
    "\n",
    "                #Art der Ergbenisse: Belastung in %\n",
    "                driver.find_element_by_xpath('//*[@id=\"OUTPUT\"]/div[2]/div/div[2]/div').click()\n",
    "\n",
    "                #Berechnen\n",
    "                driver.find_element_by_xpath('//*[@id=\"page-content\"]/div/div/div/form/div[7]/button[1]/div[1]').click()\n",
    "\n",
    "                sleep(7)\n",
    "\n",
    "                #weiterer Try-/Except-Block, falls die Seite mit den Ergebnissen nicht geladen hat\n",
    "                try:\n",
    "                    #Export anklicken\n",
    "                    driver.find_element_by_xpath('/html/body/div[1]/div[4]/main/div/div/div[2]/div/div[6]/button[1]').click()\n",
    "                    sleep(2)\n",
    "                    driver.close()\n",
    "                    sleep(1)\n",
    "                except:\n",
    "                    #in die Datei schreiben, falls der Download nicht gelungen ist\n",
    "                    csv_writer.writerow([gemeinde, 'Download nicht gelungen'])\n",
    "                    driver.close()\n",
    "                    pass\n",
    "            except:\n",
    "                #in die Datei schreiben, falls die Gemeinde nicht gefunden wurde\n",
    "                csv_writer.writerow([gemeinde])\n",
    "                driver.close()\n",
    "                pass       "
   ]
  },
  {
   "cell_type": "markdown",
   "metadata": {},
   "source": [
    "Es gilt zu beachten: Wenn eine Gemeinde mehrere Postleitzahlen hat, wird mit diesem Scraper nur die erste abgegriffen (zB. Baden und Aarau). Ein Vergleich der Aarauer Postleitzahlen zeigt, dass der Steuerfuss für alle der gleiche ist."
   ]
  }
 ],
 "metadata": {
  "kernelspec": {
   "display_name": "Python 3",
   "language": "python",
   "name": "python3"
  },
  "language_info": {
   "codemirror_mode": {
    "name": "ipython",
    "version": 3
   },
   "file_extension": ".py",
   "mimetype": "text/x-python",
   "name": "python",
   "nbconvert_exporter": "python",
   "pygments_lexer": "ipython3",
   "version": "3.8.3"
  }
 },
 "nbformat": 4,
 "nbformat_minor": 4
}
