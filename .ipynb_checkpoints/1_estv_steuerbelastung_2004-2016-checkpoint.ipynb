{
 "cells": [
  {
   "cell_type": "markdown",
   "metadata": {},
   "source": [
    "# Hintergrund der Datenanalyse"
   ]
  },
  {
   "cell_type": "markdown",
   "metadata": {},
   "source": [
    "Die Aargauer Regierung und die bürgerlichen Parteien wollen den Spitzen-Gewinnsteuersatz für Firmen im Kanton Aargau von 18,6 auf 15,1 Prozent senken, um für Firmen attraktiv zu bleiben."
   ]
  },
  {
   "cell_type": "markdown",
   "metadata": {},
   "source": [
    "# These"
   ]
  },
  {
   "cell_type": "markdown",
   "metadata": {},
   "source": [
    "Die Firmensteuern sind im Kanton Aargau in den vergangenen zwei Jahrzehnten stärker gesunken als die Steuern für natürliche Personen. Dies, weil der Steuerwettbewerb um Firmen national und international spielt. Dadurch sind die Steuererträge der Einwohner für den Kanton wichtiger geworden im Vergleich zu jenen der Firmen."
   ]
  },
  {
   "cell_type": "markdown",
   "metadata": {},
   "source": [
    "# Code ESTV_1 - Vorbereitung"
   ]
  },
  {
   "cell_type": "markdown",
   "metadata": {},
   "source": [
    "Da es sich bei den auszuwertenden Dateien um Excel-Dateien von Behörden handelt, müssen die Daten nach dem Einlesen zunächst in Form gebracht werden: Unnötige Zeilen und Spalten sind zu löschen, Spalten neu zu beschriften etc.\n",
    "\n",
    "Die Daten kommen aus zwei verschiedenen Dateien, deren Struktur fast identisch ist. Deshalb wird eine Funktion gebildet (einheit), die den Dokumentennamen und den Namen eines Tabellenblattes entgegennimmt und die Daten dieses Blattes in eine Form bringt. Dank der gleichen Form können die Daten später gemergt werden."
   ]
  },
  {
   "cell_type": "code",
   "execution_count": 1,
   "metadata": {},
   "outputs": [],
   "source": [
    "import pandas as pd\n",
    "import numpy as np\n",
    "%matplotlib inline"
   ]
  },
  {
   "cell_type": "code",
   "execution_count": 2,
   "metadata": {},
   "outputs": [],
   "source": [
    "#Auflistung der Dateinamen und der relevanten Tabellenblätter\n",
    "daten_jur = 'Daten/estv_steuerbelastung04-16_juristisch.xlsx'\n",
    "sheet_name_jur = 'Ordentlich'\n",
    "\n",
    "daten_nat = 'Daten/estv_steuerbelastung04-16_natürlich.xlsx'\n",
    "sheet_names_nat = ['Lediger', 'Verheiratet ohne Kinder', 'Verheiratet mit Kindern', 'Rentnerpaar']"
   ]
  },
  {
   "cell_type": "markdown",
   "metadata": {},
   "source": [
    "# Code ESTV_1 - Funktion zur Vereinheitlichung der Daten nat./jur."
   ]
  },
  {
   "cell_type": "markdown",
   "metadata": {},
   "source": [
    "Für die juristischen Personen wird nur das erste Tabellenblatt benötigt, für die natürlichen mehrere. Deshalb muss die Funktion zweimal angewendet werden. Für die natürlichen Personen wird jedes Tabellenblatt einzeln in einem Loop durch die Funktion gejagt und das Ergebnis durch pd.concat zu einem Dataframe zusammengefügt.\n",
    "\n",
    "Am Schluss resultieren zwei Dataframes: df_jur und df_nat mit folgenden Spalten:\n",
    "\n",
    "1. Index (Jahr)\n",
    "2. Einkommen/Gewinn (3 Gewinntypen bei jur., 5 Einkommensstufen bei nat.)\n",
    "3. average_steuerbelastung_%\n",
    "4. Geo (AG oder CH)\n",
    "5. Status (Haushaltstyp)"
   ]
  },
  {
   "cell_type": "code",
   "execution_count": 3,
   "metadata": {},
   "outputs": [],
   "source": [
    "def einheit(dokument, tabellenblatt):\n",
    "    #Einlesen von Datei und Tabellenblatt\n",
    "    df = pd.read_excel(dokument, sheet_name=tabellenblatt, skiprows=4)\n",
    "    \n",
    "    #Kantonsangabe in der Kantonsspalte durchgängig ergänzen\n",
    "    df['Kanton'] = df['Kanton'].ffill()\n",
    "    \n",
    "    #Die zweite Spalte umbenennen, damit sie einheitlich benannt ist (sie heisst nicht immer gleich in den Tabellenblättern)\n",
    "    df.rename(columns={df.columns[1]: 'Einkommen/Gewinn'}, inplace=True)\n",
    "    \n",
    "    #Die Angabe in dieser Spalte durchgängig ergänzen\n",
    "    df['Einkommen/Gewinn'] = df['Einkommen/Gewinn'].ffill()\n",
    "    \n",
    "    #Nur die Zeilen behalten, die die Steuerbelastung in Prozent enthalten\n",
    "    df = df[df['Unnamed: 2'] == '[%]'].copy()\n",
    "    \n",
    "    #unnötige Spalte löschen\n",
    "    del df['Unnamed: 2']\n",
    "    \n",
    "    #Einkommen/Gewinn als Index\n",
    "    df.set_index('Einkommen/Gewinn', inplace=True)\n",
    "    \n",
    "    #neues df_ch. Durch groupby den CH-Durchschnitt pro Einkommen/Gewinntyp und Jahr generieren\n",
    "    df_ch = df.groupby(df.index).mean()\n",
    "    \n",
    "    #durch pd.melt vom Wide- zum Long-Format mit den Jahreszahlen in einer Spalte.\n",
    "    #Wichtig: Einkommen/Gewinn als Index behalten (ignore_index=False)\n",
    "    df_ch = pd.melt(df_ch, var_name='Jahr', value_name='average_steuerbelastung_%', ignore_index=False)\n",
    "    \n",
    "    #Geo-Information ('CH') als Spalte hinzufügen\n",
    "    df_ch['Geo'] = 'CH'\n",
    "    \n",
    "    #Jahresangaben als einzigen Index setzen\n",
    "    df_ch.reset_index(inplace=True)\n",
    "    df_ch.set_index('Jahr', inplace=True)\n",
    "    \n",
    "    #Nun dasselbe für den Aargau. Neues df_ag, bestehend aus allen Einträgen wo df['Kanton'] == 'AG'\n",
    "    df_ag = df[df['Kanton'] == 'AG'].copy()\n",
    "   \n",
    "    #Vorbereitung für pd.melt: Kantonsspalte löschen (wird nach pd.melt durch 'Geo' ersetzt)\n",
    "    del df_ag['Kanton']\n",
    "    \n",
    "    #durch pd.melt vom Wide- zum Long-Format mit den Jahreszahlen in einer Spalte.\n",
    "    #Wichtig: Einkommen/Gewinn als Index behalten (ignore_index=False)\n",
    "    df_ag = pd.melt(df_ag, var_name='Jahr', value_name='average_steuerbelastung_%', ignore_index=False)\n",
    "    \n",
    "    #Geo-Information ('AG') hinzufügen\n",
    "    df_ag['Geo'] = 'AG'\n",
    "    \n",
    "    #Jahr als einzigen Index setzen\n",
    "    df_ag.reset_index(inplace=True)\n",
    "    df_ag.set_index('Jahr', inplace=True)\n",
    "    \n",
    "    #CH- und AG-Werte durch pd.concat in einem df zusammenführen\n",
    "    df_final = pd.concat([df_ch, df_ag])\n",
    "    \n",
    "    #Den Daten den entsprechenden Haushaltstyp resp. Firmenstatus mitgeben\n",
    "    df_final['Status'] = tabellenblatt\n",
    "    \n",
    "    return df_final"
   ]
  },
  {
   "cell_type": "code",
   "execution_count": 4,
   "metadata": {},
   "outputs": [],
   "source": [
    "#Anwenden der Funktion auf die juristischen Daten, nur ein Tabellenblatt (0rdentlich)\n",
    "df_jur = einheit(daten_jur, sheet_name_jur)"
   ]
  },
  {
   "cell_type": "code",
   "execution_count": 5,
   "metadata": {},
   "outputs": [
    {
     "data": {
      "text/html": [
       "<div>\n",
       "<style scoped>\n",
       "    .dataframe tbody tr th:only-of-type {\n",
       "        vertical-align: middle;\n",
       "    }\n",
       "\n",
       "    .dataframe tbody tr th {\n",
       "        vertical-align: top;\n",
       "    }\n",
       "\n",
       "    .dataframe thead th {\n",
       "        text-align: right;\n",
       "    }\n",
       "</style>\n",
       "<table border=\"1\" class=\"dataframe\">\n",
       "  <thead>\n",
       "    <tr style=\"text-align: right;\">\n",
       "      <th></th>\n",
       "      <th>Einkommen/Gewinn</th>\n",
       "      <th>average_steuerbelastung_%</th>\n",
       "      <th>Geo</th>\n",
       "      <th>Status</th>\n",
       "    </tr>\n",
       "    <tr>\n",
       "      <th>Jahr</th>\n",
       "      <th></th>\n",
       "      <th></th>\n",
       "      <th></th>\n",
       "      <th></th>\n",
       "    </tr>\n",
       "  </thead>\n",
       "  <tbody>\n",
       "    <tr>\n",
       "      <th>2004</th>\n",
       "      <td>1.0</td>\n",
       "      <td>17.831045</td>\n",
       "      <td>CH</td>\n",
       "      <td>Ordentlich</td>\n",
       "    </tr>\n",
       "    <tr>\n",
       "      <th>2004</th>\n",
       "      <td>2.0</td>\n",
       "      <td>15.264804</td>\n",
       "      <td>CH</td>\n",
       "      <td>Ordentlich</td>\n",
       "    </tr>\n",
       "    <tr>\n",
       "      <th>2004</th>\n",
       "      <td>3.0</td>\n",
       "      <td>15.095598</td>\n",
       "      <td>CH</td>\n",
       "      <td>Ordentlich</td>\n",
       "    </tr>\n",
       "    <tr>\n",
       "      <th>2005</th>\n",
       "      <td>1.0</td>\n",
       "      <td>17.939583</td>\n",
       "      <td>CH</td>\n",
       "      <td>Ordentlich</td>\n",
       "    </tr>\n",
       "    <tr>\n",
       "      <th>2005</th>\n",
       "      <td>2.0</td>\n",
       "      <td>15.345981</td>\n",
       "      <td>CH</td>\n",
       "      <td>Ordentlich</td>\n",
       "    </tr>\n",
       "  </tbody>\n",
       "</table>\n",
       "</div>"
      ],
      "text/plain": [
       "      Einkommen/Gewinn  average_steuerbelastung_% Geo      Status\n",
       "Jahr                                                             \n",
       "2004               1.0                  17.831045  CH  Ordentlich\n",
       "2004               2.0                  15.264804  CH  Ordentlich\n",
       "2004               3.0                  15.095598  CH  Ordentlich\n",
       "2005               1.0                  17.939583  CH  Ordentlich\n",
       "2005               2.0                  15.345981  CH  Ordentlich"
      ]
     },
     "execution_count": 5,
     "metadata": {},
     "output_type": "execute_result"
    }
   ],
   "source": [
    "df_jur.head()"
   ]
  },
  {
   "cell_type": "code",
   "execution_count": 6,
   "metadata": {},
   "outputs": [
    {
     "name": "stdout",
     "output_type": "stream",
     "text": [
      "<class 'pandas.core.frame.DataFrame'>\n",
      "Int64Index: 78 entries, 2004 to 2016\n",
      "Data columns (total 4 columns):\n",
      " #   Column                     Non-Null Count  Dtype  \n",
      "---  ------                     --------------  -----  \n",
      " 0   Einkommen/Gewinn           78 non-null     float64\n",
      " 1   average_steuerbelastung_%  78 non-null     float64\n",
      " 2   Geo                        78 non-null     object \n",
      " 3   Status                     78 non-null     object \n",
      "dtypes: float64(2), object(2)\n",
      "memory usage: 3.0+ KB\n"
     ]
    }
   ],
   "source": [
    "df_jur.info()"
   ]
  },
  {
   "cell_type": "code",
   "execution_count": 7,
   "metadata": {},
   "outputs": [],
   "source": [
    "#Anwenden der Funktion auf die natürlichen Daten. Mehrere Tabellenblätter, darum Loop\n",
    "#Zusammenführen der Daten aller Tabellenblätter mit pd.concat in df_nat\n",
    "df_nat = pd.DataFrame([])\n",
    "\n",
    "for name in sheet_names_nat:\n",
    "    df_temp = einheit(daten_nat, name)\n",
    "    df_nat = pd.concat([df_nat, df_temp])\n",
    "    \n",
    "#Werte bei den Rentnern vor 2008 nullen, wegen Methodenänderung\n",
    "df_nat.loc[(df_nat['Status'] == 'Rentnerpaar') & (df_nat.index < 2008), 'average_steuerbelastung_%'] = np.nan"
   ]
  },
  {
   "cell_type": "code",
   "execution_count": 8,
   "metadata": {},
   "outputs": [
    {
     "data": {
      "text/html": [
       "<div>\n",
       "<style scoped>\n",
       "    .dataframe tbody tr th:only-of-type {\n",
       "        vertical-align: middle;\n",
       "    }\n",
       "\n",
       "    .dataframe tbody tr th {\n",
       "        vertical-align: top;\n",
       "    }\n",
       "\n",
       "    .dataframe thead th {\n",
       "        text-align: right;\n",
       "    }\n",
       "</style>\n",
       "<table border=\"1\" class=\"dataframe\">\n",
       "  <thead>\n",
       "    <tr style=\"text-align: right;\">\n",
       "      <th></th>\n",
       "      <th>Einkommen/Gewinn</th>\n",
       "      <th>average_steuerbelastung_%</th>\n",
       "      <th>Geo</th>\n",
       "      <th>Status</th>\n",
       "    </tr>\n",
       "    <tr>\n",
       "      <th>Jahr</th>\n",
       "      <th></th>\n",
       "      <th></th>\n",
       "      <th></th>\n",
       "      <th></th>\n",
       "    </tr>\n",
       "  </thead>\n",
       "  <tbody>\n",
       "    <tr>\n",
       "      <th>2004</th>\n",
       "      <td>50000.0</td>\n",
       "      <td>9.787593</td>\n",
       "      <td>CH</td>\n",
       "      <td>Lediger</td>\n",
       "    </tr>\n",
       "    <tr>\n",
       "      <th>2004</th>\n",
       "      <td>100000.0</td>\n",
       "      <td>14.684892</td>\n",
       "      <td>CH</td>\n",
       "      <td>Lediger</td>\n",
       "    </tr>\n",
       "    <tr>\n",
       "      <th>2004</th>\n",
       "      <td>200000.0</td>\n",
       "      <td>18.564800</td>\n",
       "      <td>CH</td>\n",
       "      <td>Lediger</td>\n",
       "    </tr>\n",
       "    <tr>\n",
       "      <th>2004</th>\n",
       "      <td>500000.0</td>\n",
       "      <td>21.294482</td>\n",
       "      <td>CH</td>\n",
       "      <td>Lediger</td>\n",
       "    </tr>\n",
       "    <tr>\n",
       "      <th>2004</th>\n",
       "      <td>1000000.0</td>\n",
       "      <td>22.039582</td>\n",
       "      <td>CH</td>\n",
       "      <td>Lediger</td>\n",
       "    </tr>\n",
       "  </tbody>\n",
       "</table>\n",
       "</div>"
      ],
      "text/plain": [
       "      Einkommen/Gewinn  average_steuerbelastung_% Geo   Status\n",
       "Jahr                                                          \n",
       "2004           50000.0                   9.787593  CH  Lediger\n",
       "2004          100000.0                  14.684892  CH  Lediger\n",
       "2004          200000.0                  18.564800  CH  Lediger\n",
       "2004          500000.0                  21.294482  CH  Lediger\n",
       "2004         1000000.0                  22.039582  CH  Lediger"
      ]
     },
     "execution_count": 8,
     "metadata": {},
     "output_type": "execute_result"
    }
   ],
   "source": [
    "df_nat.head()"
   ]
  },
  {
   "cell_type": "code",
   "execution_count": 9,
   "metadata": {},
   "outputs": [
    {
     "name": "stdout",
     "output_type": "stream",
     "text": [
      "<class 'pandas.core.frame.DataFrame'>\n",
      "Int64Index: 520 entries, 2004 to 2016\n",
      "Data columns (total 4 columns):\n",
      " #   Column                     Non-Null Count  Dtype  \n",
      "---  ------                     --------------  -----  \n",
      " 0   Einkommen/Gewinn           520 non-null    float64\n",
      " 1   average_steuerbelastung_%  480 non-null    float64\n",
      " 2   Geo                        520 non-null    object \n",
      " 3   Status                     520 non-null    object \n",
      "dtypes: float64(2), object(2)\n",
      "memory usage: 20.3+ KB\n"
     ]
    }
   ],
   "source": [
    "df_nat.info()"
   ]
  },
  {
   "cell_type": "markdown",
   "metadata": {},
   "source": [
    "# Code ESTV_1 - 1. Teilauswertung"
   ]
  },
  {
   "cell_type": "markdown",
   "metadata": {},
   "source": [
    "In einer zweiten Funktion (vor_merge) werden die Daten zunächst so hergerichtet, dass sie danach anhand des Index ('Jahr') gemergt werden können. Ziel ist es, die Daten so zusammenzustellen, dass sie vom Visualisierungsdienst Q-Tool (Entwicklung der NZZ, die auch CH Media nutzt) visualisiert werden können für die 1. Auswertung:\n",
    "\n",
    "1. Steuerbelastung 2004-2016 ordentlich besteuerte Firmen vs. natürliche Personen (Aargau und CH-Durchschnitt)"
   ]
  },
  {
   "cell_type": "code",
   "execution_count": 10,
   "metadata": {},
   "outputs": [],
   "source": [
    "def vor_merge(df, person):\n",
    "    #Groupby auf eingespiesenes df nach Index ('Jahr') und Geo (AG und CH).\n",
    "    #Berechnet wird der Durchschnitt der Steuerbelastung nach Jahr und Geo-Region\n",
    "    df_vor_merge = pd.DataFrame(df.groupby([df.index, 'Geo'])['average_steuerbelastung_%'].mean())\n",
    "    \n",
    "    #Jahr als einziger Index\n",
    "    df_vor_merge.reset_index(inplace=True)\n",
    "    df_vor_merge.set_index('Jahr', inplace=True)\n",
    "    \n",
    "    #Pivot long to wide, damit die Geo-Region in den Spaltennamen kommt (für die Visualisierung nötig)\n",
    "    df_vor_merge = df_vor_merge.pivot_table(index=df_vor_merge.index, columns='Geo', values='average_steuerbelastung_%')\n",
    "    \n",
    "    #den Geo-Regionen in den Spaltentiteln ein Suffix ('_jur' oder '_nat') hinzufügen, damit nach dem Merge die Unterscheidung möglich ist\n",
    "    df_vor_merge = df_vor_merge.add_suffix(f'_{person}')\n",
    "    \n",
    "    return df_vor_merge"
   ]
  },
  {
   "cell_type": "markdown",
   "metadata": {},
   "source": [
    "Die beiden Dataframes df_jur und df_nat werden in einen Dictionary verpackt, durch den anschliessend iteriert wird. Im Loop wird die Funktion vor_merge aufgerufen und mit einem Dataframe gefüttert. Der Output wird in einer Liste gespeichert. Anschliessend können die zwei Inhalte der Liste gemergt werden."
   ]
  },
  {
   "cell_type": "code",
   "execution_count": 11,
   "metadata": {},
   "outputs": [],
   "source": [
    "df_dict = {'jur': df_jur, 'nat': df_nat}\n",
    "\n",
    "df_liste = []\n",
    "\n",
    "for key, value in df_dict.items():\n",
    "    df_temp = vor_merge(value, key)\n",
    "    df_liste.append(df_temp)\n",
    "    \n",
    "df_steuerbelastung = df_liste[0].merge(df_liste[1], left_index=True, right_index=True)\n",
    "\n",
    "#Export für Q-Tool\n",
    "df_steuerbelastung.to_csv('Ergebnisse/steuerbelastung_nat_jur_ag_ch.csv')"
   ]
  },
  {
   "cell_type": "code",
   "execution_count": 12,
   "metadata": {},
   "outputs": [
    {
     "data": {
      "text/html": [
       "<div>\n",
       "<style scoped>\n",
       "    .dataframe tbody tr th:only-of-type {\n",
       "        vertical-align: middle;\n",
       "    }\n",
       "\n",
       "    .dataframe tbody tr th {\n",
       "        vertical-align: top;\n",
       "    }\n",
       "\n",
       "    .dataframe thead th {\n",
       "        text-align: right;\n",
       "    }\n",
       "</style>\n",
       "<table border=\"1\" class=\"dataframe\">\n",
       "  <thead>\n",
       "    <tr style=\"text-align: right;\">\n",
       "      <th>Geo</th>\n",
       "      <th>AG_jur</th>\n",
       "      <th>CH_jur</th>\n",
       "      <th>AG_nat</th>\n",
       "      <th>CH_nat</th>\n",
       "    </tr>\n",
       "    <tr>\n",
       "      <th>Jahr</th>\n",
       "      <th></th>\n",
       "      <th></th>\n",
       "      <th></th>\n",
       "      <th></th>\n",
       "    </tr>\n",
       "  </thead>\n",
       "  <tbody>\n",
       "    <tr>\n",
       "      <th>2004</th>\n",
       "      <td>17.897042</td>\n",
       "      <td>16.063816</td>\n",
       "      <td>15.233130</td>\n",
       "      <td>15.144040</td>\n",
       "    </tr>\n",
       "    <tr>\n",
       "      <th>2005</th>\n",
       "      <td>17.897042</td>\n",
       "      <td>16.044794</td>\n",
       "      <td>15.171329</td>\n",
       "      <td>14.969024</td>\n",
       "    </tr>\n",
       "    <tr>\n",
       "      <th>2006</th>\n",
       "      <td>17.897042</td>\n",
       "      <td>15.407893</td>\n",
       "      <td>15.097528</td>\n",
       "      <td>14.738526</td>\n",
       "    </tr>\n",
       "    <tr>\n",
       "      <th>2007</th>\n",
       "      <td>15.052917</td>\n",
       "      <td>14.777301</td>\n",
       "      <td>15.074482</td>\n",
       "      <td>14.588964</td>\n",
       "    </tr>\n",
       "    <tr>\n",
       "      <th>2008</th>\n",
       "      <td>14.699833</td>\n",
       "      <td>13.681668</td>\n",
       "      <td>15.169104</td>\n",
       "      <td>14.616555</td>\n",
       "    </tr>\n",
       "  </tbody>\n",
       "</table>\n",
       "</div>"
      ],
      "text/plain": [
       "Geo      AG_jur     CH_jur     AG_nat     CH_nat\n",
       "Jahr                                            \n",
       "2004  17.897042  16.063816  15.233130  15.144040\n",
       "2005  17.897042  16.044794  15.171329  14.969024\n",
       "2006  17.897042  15.407893  15.097528  14.738526\n",
       "2007  15.052917  14.777301  15.074482  14.588964\n",
       "2008  14.699833  13.681668  15.169104  14.616555"
      ]
     },
     "execution_count": 12,
     "metadata": {},
     "output_type": "execute_result"
    }
   ],
   "source": [
    "df_steuerbelastung.head()"
   ]
  },
  {
   "cell_type": "code",
   "execution_count": 13,
   "metadata": {},
   "outputs": [
    {
     "name": "stdout",
     "output_type": "stream",
     "text": [
      "<class 'pandas.core.frame.DataFrame'>\n",
      "Int64Index: 13 entries, 2004 to 2016\n",
      "Data columns (total 4 columns):\n",
      " #   Column  Non-Null Count  Dtype  \n",
      "---  ------  --------------  -----  \n",
      " 0   AG_jur  13 non-null     float64\n",
      " 1   CH_jur  13 non-null     float64\n",
      " 2   AG_nat  13 non-null     float64\n",
      " 3   CH_nat  13 non-null     float64\n",
      "dtypes: float64(4)\n",
      "memory usage: 1.1 KB\n"
     ]
    }
   ],
   "source": [
    "df_steuerbelastung.info()"
   ]
  },
  {
   "cell_type": "markdown",
   "metadata": {},
   "source": [
    "**Zwischenfazit** Gemäss untenstehender Darstellung ist die Steuerbelastung für Firmen zwischen 2004 und 2016 im Aargau und im Durchschnitt der Kantone stärker gesunken als für natürliche Personen."
   ]
  },
  {
   "cell_type": "code",
   "execution_count": 14,
   "metadata": {},
   "outputs": [
    {
     "data": {
      "text/plain": [
       "<matplotlib.axes._subplots.AxesSubplot at 0x7f810e2ce580>"
      ]
     },
     "execution_count": 14,
     "metadata": {},
     "output_type": "execute_result"
    },
    {
     "data": {
      "image/png": "[encoded data removed]",
      "text/plain": [
       "<Figure size 432x288 with 1 Axes>"
      ]
     },
     "metadata": {
      "needs_background": "light"
     },
     "output_type": "display_data"
    }
   ],
   "source": [
    "df_steuerbelastung.plot()"
   ]
  },
  {
   "cell_type": "markdown",
   "metadata": {},
   "source": [
    "# Code ESTV_1 - 2. Teilauswertung"
   ]
  },
  {
   "cell_type": "markdown",
   "metadata": {},
   "source": [
    "Die zweite Auswertung ist in zwei Teile unterteilt:\n",
    "\n",
    "2. Steuerbelastung für einzelne Haushaltstypen (Ledig, verheiratet mit/ohne Kinder, Rentnerpaar)\n",
    "    1. Veränderung pro Jahr und Haushaltstyp -> df_status (Basis für Linien-Grafik)\n",
    "    2. Veränderung pro Haushaltstyp im Aargau von 2004 zu 2016 in Prozent -> df_status2 (Basis für Tabelle)\n",
    "    \n",
    "Benötigt wird zur Berechnung das df_nat."
   ]
  },
  {
   "cell_type": "code",
   "execution_count": 15,
   "metadata": {},
   "outputs": [],
   "source": [
    "#df_nat wird gruppiert, sodass die durchschn. Steuerbelastung pro Jahr (index), Geo-Region und Haushaltstyp (Status) vorliegt.\n",
    "df_status = pd.DataFrame(df_nat.groupby([df_nat.index, 'Geo', 'Status'])['average_steuerbelastung_%'].mean())\n",
    "\n",
    "#Jahr als einziger Index\n",
    "df_status.reset_index(inplace=True)\n",
    "df_status.set_index('Jahr', inplace=True)\n",
    "\n",
    "#Pivot von long to wide, damit die Geo-Region in die Spaltentitel kommt. Dies als Vorbereitung für die Visualisierung\n",
    "df_status = df_status.pivot_table(index=df_status.index, columns=['Geo', 'Status'], values='average_steuerbelastung_%')\n",
    "\n",
    "#Nun hat das Dataframe zwei Spaltentitel-Ebenen. Um sie zusammenzuführen,\n",
    "#wird ein Join-Vorgang in einer List comprehension angewendet (für jeden Spaltentitel:\n",
    "#füge beide Titel mit einem Bodenstrich dazwischen zusammen)\n",
    "df_status.columns = ['_'.join(col) for col in df_status.columns]\n",
    "\n",
    "#Export für Q-Tool\n",
    "df_status.to_csv('Ergebnisse/steuerbelastung_nat_haushaltstyp.csv')"
   ]
  },
  {
   "cell_type": "code",
   "execution_count": 16,
   "metadata": {},
   "outputs": [
    {
     "data": {
      "text/html": [
       "<div>\n",
       "<style scoped>\n",
       "    .dataframe tbody tr th:only-of-type {\n",
       "        vertical-align: middle;\n",
       "    }\n",
       "\n",
       "    .dataframe tbody tr th {\n",
       "        vertical-align: top;\n",
       "    }\n",
       "\n",
       "    .dataframe thead th {\n",
       "        text-align: right;\n",
       "    }\n",
       "</style>\n",
       "<table border=\"1\" class=\"dataframe\">\n",
       "  <thead>\n",
       "    <tr style=\"text-align: right;\">\n",
       "      <th></th>\n",
       "      <th>AG_Lediger</th>\n",
       "      <th>AG_Rentnerpaar</th>\n",
       "      <th>AG_Verheiratet mit Kindern</th>\n",
       "      <th>AG_Verheiratet ohne Kinder</th>\n",
       "      <th>CH_Lediger</th>\n",
       "      <th>CH_Rentnerpaar</th>\n",
       "      <th>CH_Verheiratet mit Kindern</th>\n",
       "      <th>CH_Verheiratet ohne Kinder</th>\n",
       "    </tr>\n",
       "    <tr>\n",
       "      <th>Jahr</th>\n",
       "      <th></th>\n",
       "      <th></th>\n",
       "      <th></th>\n",
       "      <th></th>\n",
       "      <th></th>\n",
       "      <th></th>\n",
       "      <th></th>\n",
       "      <th></th>\n",
       "    </tr>\n",
       "  </thead>\n",
       "  <tbody>\n",
       "    <tr>\n",
       "      <th>2004</th>\n",
       "      <td>18.210044</td>\n",
       "      <td>NaN</td>\n",
       "      <td>12.994708</td>\n",
       "      <td>14.494640</td>\n",
       "      <td>17.274270</td>\n",
       "      <td>NaN</td>\n",
       "      <td>13.322189</td>\n",
       "      <td>14.835660</td>\n",
       "    </tr>\n",
       "    <tr>\n",
       "      <th>2005</th>\n",
       "      <td>18.136165</td>\n",
       "      <td>NaN</td>\n",
       "      <td>12.941987</td>\n",
       "      <td>14.435834</td>\n",
       "      <td>17.152627</td>\n",
       "      <td>NaN</td>\n",
       "      <td>13.100338</td>\n",
       "      <td>14.654107</td>\n",
       "    </tr>\n",
       "    <tr>\n",
       "      <th>2006</th>\n",
       "      <td>18.047942</td>\n",
       "      <td>NaN</td>\n",
       "      <td>12.879031</td>\n",
       "      <td>14.365612</td>\n",
       "      <td>16.947531</td>\n",
       "      <td>NaN</td>\n",
       "      <td>12.847969</td>\n",
       "      <td>14.420079</td>\n",
       "    </tr>\n",
       "    <tr>\n",
       "      <th>2007</th>\n",
       "      <td>18.020391</td>\n",
       "      <td>NaN</td>\n",
       "      <td>12.859371</td>\n",
       "      <td>14.343682</td>\n",
       "      <td>16.850734</td>\n",
       "      <td>NaN</td>\n",
       "      <td>12.654158</td>\n",
       "      <td>14.262000</td>\n",
       "    </tr>\n",
       "    <tr>\n",
       "      <th>2008</th>\n",
       "      <td>17.533351</td>\n",
       "      <td>16.675231</td>\n",
       "      <td>12.511819</td>\n",
       "      <td>13.956013</td>\n",
       "      <td>16.375845</td>\n",
       "      <td>16.210755</td>\n",
       "      <td>12.120376</td>\n",
       "      <td>13.759245</td>\n",
       "    </tr>\n",
       "  </tbody>\n",
       "</table>\n",
       "</div>"
      ],
      "text/plain": [
       "      AG_Lediger  AG_Rentnerpaar  AG_Verheiratet mit Kindern  \\\n",
       "Jahr                                                           \n",
       "2004   18.210044             NaN                   12.994708   \n",
       "2005   18.136165             NaN                   12.941987   \n",
       "2006   18.047942             NaN                   12.879031   \n",
       "2007   18.020391             NaN                   12.859371   \n",
       "2008   17.533351       16.675231                   12.511819   \n",
       "\n",
       "      AG_Verheiratet ohne Kinder  CH_Lediger  CH_Rentnerpaar  \\\n",
       "Jahr                                                           \n",
       "2004                   14.494640   17.274270             NaN   \n",
       "2005                   14.435834   17.152627             NaN   \n",
       "2006                   14.365612   16.947531             NaN   \n",
       "2007                   14.343682   16.850734             NaN   \n",
       "2008                   13.956013   16.375845       16.210755   \n",
       "\n",
       "      CH_Verheiratet mit Kindern  CH_Verheiratet ohne Kinder  \n",
       "Jahr                                                          \n",
       "2004                   13.322189                   14.835660  \n",
       "2005                   13.100338                   14.654107  \n",
       "2006                   12.847969                   14.420079  \n",
       "2007                   12.654158                   14.262000  \n",
       "2008                   12.120376                   13.759245  "
      ]
     },
     "execution_count": 16,
     "metadata": {},
     "output_type": "execute_result"
    }
   ],
   "source": [
    "df_status.head()"
   ]
  },
  {
   "cell_type": "code",
   "execution_count": 17,
   "metadata": {},
   "outputs": [
    {
     "name": "stdout",
     "output_type": "stream",
     "text": [
      "<class 'pandas.core.frame.DataFrame'>\n",
      "Int64Index: 13 entries, 2004 to 2016\n",
      "Data columns (total 8 columns):\n",
      " #   Column                      Non-Null Count  Dtype  \n",
      "---  ------                      --------------  -----  \n",
      " 0   AG_Lediger                  13 non-null     float64\n",
      " 1   AG_Rentnerpaar              9 non-null      float64\n",
      " 2   AG_Verheiratet mit Kindern  13 non-null     float64\n",
      " 3   AG_Verheiratet ohne Kinder  13 non-null     float64\n",
      " 4   CH_Lediger                  13 non-null     float64\n",
      " 5   CH_Rentnerpaar              9 non-null      float64\n",
      " 6   CH_Verheiratet mit Kindern  13 non-null     float64\n",
      " 7   CH_Verheiratet ohne Kinder  13 non-null     float64\n",
      "dtypes: float64(8)\n",
      "memory usage: 936.0 bytes\n"
     ]
    }
   ],
   "source": [
    "df_status.info()"
   ]
  },
  {
   "cell_type": "markdown",
   "metadata": {},
   "source": [
    "Nun wird für jeden Haushaltstyp mit jedem Einkommen für den Aargau errechnet, wie stark sich die Steuerbelastung seit 2004 verändert hat (in Prozent). Dazu wird ein Loop gebaut, der durch die Tabellenblätter iteriert und ein innerer Loop, der durch eine Liste der Einkommen iteriert."
   ]
  },
  {
   "cell_type": "code",
   "execution_count": 18,
   "metadata": {},
   "outputs": [],
   "source": [
    "#Erstellen der Liste mit den Einkommen\n",
    "einkommen_liste = df_nat['Einkommen/Gewinn'].unique().tolist()\n",
    "\n",
    "for name in sheet_names_nat:\n",
    "    \n",
    "    #Leeres Dataframe, das durch den inneren Loop gefüllt wird mit den Belastungen pro Jahr (wide-Format für Visualisierung)...\n",
    "    #... und der Veränderung von 2016 ggü. 2004\n",
    "    df_status2 = pd.DataFrame([])\n",
    "    \n",
    "    for einkommen in einkommen_liste:\n",
    "            #Anhand der Variablen das df zusammenstellen\n",
    "            df = df_nat[(df_nat['Status'] == name) & (df_nat['Einkommen/Gewinn'] == einkommen) & (df_nat['Geo'] == 'AG')].copy()\n",
    "            \n",
    "            #Zwei Spalten löschen, eine umbenennen\n",
    "            df = df.drop(columns=['Geo', 'Status'])\n",
    "            df.rename(columns={'Einkommen/Gewinn': 'Brutto-Einkommen'}, inplace=True)\n",
    "            \n",
    "            #Pivot long to wide, sodass jede Spalte ein Jahr darstellt (für die Visualisierung)\n",
    "            df = df.pivot_table(index='Brutto-Einkommen', columns=df.index, values='average_steuerbelastung_%')\n",
    "            \n",
    "            #neue Spalte: Veränderung 2016 ggü. 2004 resp. 2008 (Rentner) in Prozent\n",
    "            if name == 'Rentnerpaar':\n",
    "                df['Veränderung seit 2008'] = (((df[2016]-df[2008]) / df[2008]) * 100).round(1)\n",
    "            else:\n",
    "                df['Veränderung seit 2004'] = (((df[2016]-df[2004]) / df[2004]) * 100).round(1)\n",
    "            \n",
    "            #Das Dataframe wird durch pd.concat dem df_status2 hinzugefügt\n",
    "            df_status2 = pd.concat([df_status2, df])\n",
    "    \n",
    "    #Sobald alle Einkommens-Niveaus pro Haushaltstyp im df_status2 sind, erfolgt der Export für Datawrapper...\n",
    "    #... mit entsprechender Benennung nach Haushaltstyp ('name')\n",
    "    #jeder Haushaltstyp wird bewusst in einem eigenen df exportiert, weil für jeden eine eigene Tabelle gebildet wird,\n",
    "    #die dann miteinander verlinkt werden: https://www.datawrapper.de/_/OBuic/\n",
    "    df_status2.to_csv(f'Ergebnisse/Auswertung_2b/status_{name}.csv')"
   ]
  }
 ],
 "metadata": {
  "kernelspec": {
   "display_name": "Python 3",
   "language": "python",
   "name": "python3"
  },
  "language_info": {
   "codemirror_mode": {
    "name": "ipython",
    "version": 3
   },
   "file_extension": ".py",
   "mimetype": "text/x-python",
   "name": "python",
   "nbconvert_exporter": "python",
   "pygments_lexer": "ipython3",
   "version": "3.8.3"
  }
 },
 "nbformat": 4,
 "nbformat_minor": 4
}
